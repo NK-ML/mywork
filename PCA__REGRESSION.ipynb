{
  "nbformat": 4,
  "nbformat_minor": 0,
  "metadata": {
    "kernelspec": {
      "display_name": "Python 3",
      "language": "python",
      "name": "python3"
    },
    "language_info": {
      "codemirror_mode": {
        "name": "ipython",
        "version": 3
      },
      "file_extension": ".py",
      "mimetype": "text/x-python",
      "name": "python",
      "nbconvert_exporter": "python",
      "pygments_lexer": "ipython3",
      "version": "3.7.4"
    },
    "colab": {
      "name": "PCA__REGRESSION.ipynb",
      "provenance": [],
      "collapsed_sections": []
    }
  },
  "cells": [
    {
      "cell_type": "markdown",
      "metadata": {
        "id": "JZP4iiNGLcgE"
      },
      "source": [
        "# AAPL"
      ]
    },
    {
      "cell_type": "code",
      "metadata": {
        "id": "cMD2wANyLcgH"
      },
      "source": [
        "import pandas as pd\n",
        "AAPL_df=pd.read_csv('/content/AAPL_modeling_data.csv')"
      ],
      "execution_count": 92,
      "outputs": []
    },
    {
      "cell_type": "code",
      "metadata": {
        "colab": {
          "base_uri": "https://localhost:8080/",
          "height": 326
        },
        "id": "WQGlStB4Qecb",
        "outputId": "4ee300e8-c597-4d45-d177-51f20b4d5542"
      },
      "source": [
        "AAPL_df.head()"
      ],
      "execution_count": 93,
      "outputs": [
        {
          "output_type": "execute_result",
          "data": {
            "text/html": [
              "<div>\n",
              "<style scoped>\n",
              "    .dataframe tbody tr th:only-of-type {\n",
              "        vertical-align: middle;\n",
              "    }\n",
              "\n",
              "    .dataframe tbody tr th {\n",
              "        vertical-align: top;\n",
              "    }\n",
              "\n",
              "    .dataframe thead th {\n",
              "        text-align: right;\n",
              "    }\n",
              "</style>\n",
              "<table border=\"1\" class=\"dataframe\">\n",
              "  <thead>\n",
              "    <tr style=\"text-align: right;\">\n",
              "      <th></th>\n",
              "      <th>Unnamed: 0</th>\n",
              "      <th>Date</th>\n",
              "      <th>Close/Last</th>\n",
              "      <th>Volume</th>\n",
              "      <th>Open</th>\n",
              "      <th>High</th>\n",
              "      <th>Low</th>\n",
              "      <th>SameDay_Binary</th>\n",
              "      <th>PreviousDay_Binary</th>\n",
              "      <th>SameDay_Percentage</th>\n",
              "      <th>PreviousDay_Percentage</th>\n",
              "    </tr>\n",
              "  </thead>\n",
              "  <tbody>\n",
              "    <tr>\n",
              "      <th>0</th>\n",
              "      <td>0</td>\n",
              "      <td>2021-04-07</td>\n",
              "      <td>127.900</td>\n",
              "      <td>83466720.0</td>\n",
              "      <td>125.83</td>\n",
              "      <td>127.920</td>\n",
              "      <td>125.1400</td>\n",
              "      <td>1</td>\n",
              "      <td>0</td>\n",
              "      <td>1</td>\n",
              "      <td>-1</td>\n",
              "    </tr>\n",
              "    <tr>\n",
              "      <th>1</th>\n",
              "      <td>1</td>\n",
              "      <td>2021-04-08</td>\n",
              "      <td>130.360</td>\n",
              "      <td>88844590.0</td>\n",
              "      <td>128.95</td>\n",
              "      <td>130.390</td>\n",
              "      <td>128.5200</td>\n",
              "      <td>1</td>\n",
              "      <td>1</td>\n",
              "      <td>1</td>\n",
              "      <td>1</td>\n",
              "    </tr>\n",
              "    <tr>\n",
              "      <th>2</th>\n",
              "      <td>2</td>\n",
              "      <td>2021-04-09</td>\n",
              "      <td>132.995</td>\n",
              "      <td>106686700.0</td>\n",
              "      <td>129.80</td>\n",
              "      <td>133.040</td>\n",
              "      <td>129.4700</td>\n",
              "      <td>1</td>\n",
              "      <td>1</td>\n",
              "      <td>1</td>\n",
              "      <td>1</td>\n",
              "    </tr>\n",
              "    <tr>\n",
              "      <th>3</th>\n",
              "      <td>3</td>\n",
              "      <td>2021-04-10</td>\n",
              "      <td>131.635</td>\n",
              "      <td>89321380.0</td>\n",
              "      <td>133.73</td>\n",
              "      <td>133.925</td>\n",
              "      <td>131.1425</td>\n",
              "      <td>0</td>\n",
              "      <td>0</td>\n",
              "      <td>-1</td>\n",
              "      <td>1</td>\n",
              "    </tr>\n",
              "    <tr>\n",
              "      <th>4</th>\n",
              "      <td>4</td>\n",
              "      <td>2021-04-11</td>\n",
              "      <td>131.635</td>\n",
              "      <td>89321380.0</td>\n",
              "      <td>133.73</td>\n",
              "      <td>133.925</td>\n",
              "      <td>131.1425</td>\n",
              "      <td>0</td>\n",
              "      <td>0</td>\n",
              "      <td>-1</td>\n",
              "      <td>-1</td>\n",
              "    </tr>\n",
              "  </tbody>\n",
              "</table>\n",
              "</div>"
            ],
            "text/plain": [
              "   Unnamed: 0        Date  ...  SameDay_Percentage  PreviousDay_Percentage\n",
              "0           0  2021-04-07  ...                   1                      -1\n",
              "1           1  2021-04-08  ...                   1                       1\n",
              "2           2  2021-04-09  ...                   1                       1\n",
              "3           3  2021-04-10  ...                  -1                       1\n",
              "4           4  2021-04-11  ...                  -1                      -1\n",
              "\n",
              "[5 rows x 11 columns]"
            ]
          },
          "metadata": {},
          "execution_count": 93
        }
      ]
    },
    {
      "cell_type": "code",
      "metadata": {
        "colab": {
          "base_uri": "https://localhost:8080/"
        },
        "id": "D3wwZguOQqq8",
        "outputId": "4890cebf-bd79-4fc7-d093-4671db9c164f"
      },
      "source": [
        "AAPL_df.shape"
      ],
      "execution_count": 94,
      "outputs": [
        {
          "output_type": "execute_result",
          "data": {
            "text/plain": [
              "(172, 11)"
            ]
          },
          "metadata": {},
          "execution_count": 94
        }
      ]
    },
    {
      "cell_type": "code",
      "metadata": {
        "id": "l_w8x-wvLcgJ"
      },
      "source": [
        "AAPL_df[\"day\"] = AAPL_df['Date'].map(lambda x: pd.to_datetime(x).day)\n",
        "AAPL_df[\"month\"] = AAPL_df['Date'].map(lambda x: pd.to_datetime(x).month)\n",
        "AAPL_df[\"year\"] = AAPL_df['Date'].map(lambda x: pd.to_datetime(x).year)"
      ],
      "execution_count": 95,
      "outputs": []
    },
    {
      "cell_type": "code",
      "metadata": {
        "colab": {
          "base_uri": "https://localhost:8080/",
          "height": 326
        },
        "id": "MoO3U6qvLcgK",
        "outputId": "8e4dcb6f-4b33-407a-95ab-3961aab292d1"
      },
      "source": [
        "AAPL_df.head()"
      ],
      "execution_count": 96,
      "outputs": [
        {
          "output_type": "execute_result",
          "data": {
            "text/html": [
              "<div>\n",
              "<style scoped>\n",
              "    .dataframe tbody tr th:only-of-type {\n",
              "        vertical-align: middle;\n",
              "    }\n",
              "\n",
              "    .dataframe tbody tr th {\n",
              "        vertical-align: top;\n",
              "    }\n",
              "\n",
              "    .dataframe thead th {\n",
              "        text-align: right;\n",
              "    }\n",
              "</style>\n",
              "<table border=\"1\" class=\"dataframe\">\n",
              "  <thead>\n",
              "    <tr style=\"text-align: right;\">\n",
              "      <th></th>\n",
              "      <th>Unnamed: 0</th>\n",
              "      <th>Date</th>\n",
              "      <th>Close/Last</th>\n",
              "      <th>Volume</th>\n",
              "      <th>Open</th>\n",
              "      <th>High</th>\n",
              "      <th>Low</th>\n",
              "      <th>SameDay_Binary</th>\n",
              "      <th>PreviousDay_Binary</th>\n",
              "      <th>SameDay_Percentage</th>\n",
              "      <th>PreviousDay_Percentage</th>\n",
              "      <th>day</th>\n",
              "      <th>month</th>\n",
              "      <th>year</th>\n",
              "    </tr>\n",
              "  </thead>\n",
              "  <tbody>\n",
              "    <tr>\n",
              "      <th>0</th>\n",
              "      <td>0</td>\n",
              "      <td>2021-04-07</td>\n",
              "      <td>127.900</td>\n",
              "      <td>83466720.0</td>\n",
              "      <td>125.83</td>\n",
              "      <td>127.920</td>\n",
              "      <td>125.1400</td>\n",
              "      <td>1</td>\n",
              "      <td>0</td>\n",
              "      <td>1</td>\n",
              "      <td>-1</td>\n",
              "      <td>7</td>\n",
              "      <td>4</td>\n",
              "      <td>2021</td>\n",
              "    </tr>\n",
              "    <tr>\n",
              "      <th>1</th>\n",
              "      <td>1</td>\n",
              "      <td>2021-04-08</td>\n",
              "      <td>130.360</td>\n",
              "      <td>88844590.0</td>\n",
              "      <td>128.95</td>\n",
              "      <td>130.390</td>\n",
              "      <td>128.5200</td>\n",
              "      <td>1</td>\n",
              "      <td>1</td>\n",
              "      <td>1</td>\n",
              "      <td>1</td>\n",
              "      <td>8</td>\n",
              "      <td>4</td>\n",
              "      <td>2021</td>\n",
              "    </tr>\n",
              "    <tr>\n",
              "      <th>2</th>\n",
              "      <td>2</td>\n",
              "      <td>2021-04-09</td>\n",
              "      <td>132.995</td>\n",
              "      <td>106686700.0</td>\n",
              "      <td>129.80</td>\n",
              "      <td>133.040</td>\n",
              "      <td>129.4700</td>\n",
              "      <td>1</td>\n",
              "      <td>1</td>\n",
              "      <td>1</td>\n",
              "      <td>1</td>\n",
              "      <td>9</td>\n",
              "      <td>4</td>\n",
              "      <td>2021</td>\n",
              "    </tr>\n",
              "    <tr>\n",
              "      <th>3</th>\n",
              "      <td>3</td>\n",
              "      <td>2021-04-10</td>\n",
              "      <td>131.635</td>\n",
              "      <td>89321380.0</td>\n",
              "      <td>133.73</td>\n",
              "      <td>133.925</td>\n",
              "      <td>131.1425</td>\n",
              "      <td>0</td>\n",
              "      <td>0</td>\n",
              "      <td>-1</td>\n",
              "      <td>1</td>\n",
              "      <td>10</td>\n",
              "      <td>4</td>\n",
              "      <td>2021</td>\n",
              "    </tr>\n",
              "    <tr>\n",
              "      <th>4</th>\n",
              "      <td>4</td>\n",
              "      <td>2021-04-11</td>\n",
              "      <td>131.635</td>\n",
              "      <td>89321380.0</td>\n",
              "      <td>133.73</td>\n",
              "      <td>133.925</td>\n",
              "      <td>131.1425</td>\n",
              "      <td>0</td>\n",
              "      <td>0</td>\n",
              "      <td>-1</td>\n",
              "      <td>-1</td>\n",
              "      <td>11</td>\n",
              "      <td>4</td>\n",
              "      <td>2021</td>\n",
              "    </tr>\n",
              "  </tbody>\n",
              "</table>\n",
              "</div>"
            ],
            "text/plain": [
              "   Unnamed: 0        Date  Close/Last  ...  day  month  year\n",
              "0           0  2021-04-07     127.900  ...    7      4  2021\n",
              "1           1  2021-04-08     130.360  ...    8      4  2021\n",
              "2           2  2021-04-09     132.995  ...    9      4  2021\n",
              "3           3  2021-04-10     131.635  ...   10      4  2021\n",
              "4           4  2021-04-11     131.635  ...   11      4  2021\n",
              "\n",
              "[5 rows x 14 columns]"
            ]
          },
          "metadata": {},
          "execution_count": 96
        }
      ]
    },
    {
      "cell_type": "code",
      "metadata": {
        "id": "MGzu2pQ4RLJ9"
      },
      "source": [
        "from sklearn.model_selection import train_test_split"
      ],
      "execution_count": 97,
      "outputs": []
    },
    {
      "cell_type": "code",
      "metadata": {
        "id": "J7a2eF5rRK5c"
      },
      "source": [
        "AAPL_X_classification=AAPL_df[['day','Open']]\n",
        "AAPL_X_regression=AAPL_df.drop([\"Open\",\"Close/Last\",\"SameDay_Binary\",\"PreviousDay_Binary\",\"SameDay_Percentage\",\"PreviousDay_Percentage\",\"year\",\"Date\"],axis =1 )\n",
        "AAPL_Y_Binary_sameDay = AAPL_df[\"SameDay_Binary\"]\n",
        "AAPL_Y_Binary_previousDay = AAPL_df[\"PreviousDay_Binary\"]\n",
        "AAPL_Y_Percentage_sameDay = AAPL_df[\"SameDay_Percentage\"]\n",
        "AAPL_Y_Percentage_previousDay = AAPL_df[\"PreviousDay_Percentage\"]"
      ],
      "execution_count": 98,
      "outputs": []
    },
    {
      "cell_type": "code",
      "metadata": {
        "id": "cK0BIv2vL900"
      },
      "source": [
        "#PCA"
      ],
      "execution_count": 99,
      "outputs": []
    },
    {
      "cell_type": "code",
      "metadata": {
        "id": "zv3z4R60L9x9"
      },
      "source": [
        "from sklearn.preprocessing import MinMaxScaler"
      ],
      "execution_count": 100,
      "outputs": []
    },
    {
      "cell_type": "code",
      "metadata": {
        "id": "JxEjew7fL9Xd"
      },
      "source": [
        "from sklearn.preprocessing import StandardScaler"
      ],
      "execution_count": 101,
      "outputs": []
    },
    {
      "cell_type": "code",
      "metadata": {
        "colab": {
          "base_uri": "https://localhost:8080/"
        },
        "id": "4LSKddi7NzX3",
        "outputId": "573883d7-03dd-4a20-91c9-a70bc9ea559c"
      },
      "source": [
        "scaler=StandardScaler()\n",
        "scaler.fit(AAPL_X_regression)"
      ],
      "execution_count": 102,
      "outputs": [
        {
          "output_type": "execute_result",
          "data": {
            "text/plain": [
              "StandardScaler(copy=True, with_mean=True, with_std=True)"
            ]
          },
          "metadata": {},
          "execution_count": 102
        }
      ]
    },
    {
      "cell_type": "code",
      "metadata": {
        "id": "y7xVh-u7N-_P"
      },
      "source": [
        "scaled_data=scaler.transform(AAPL_X_regression)"
      ],
      "execution_count": 103,
      "outputs": []
    },
    {
      "cell_type": "code",
      "metadata": {
        "colab": {
          "base_uri": "https://localhost:8080/"
        },
        "id": "GowLociCOB1H",
        "outputId": "def37e57-4dbe-4c76-a738-df0673923e80"
      },
      "source": [
        "scaled_data"
      ],
      "execution_count": 104,
      "outputs": [
        {
          "output_type": "execute_result",
          "data": {
            "text/plain": [
              "array([[-1.72200985, -0.02726264, -1.18402603, -1.2299008 , -1.03465642,\n",
              "        -1.53779293],\n",
              "       [-1.70186938,  0.26435673, -0.89454218, -0.82849029, -0.91742262,\n",
              "        -1.53779293],\n",
              "       [-1.68172892,  1.23185963, -0.58396233, -0.7156678 , -0.80018882,\n",
              "        -1.53779293],\n",
              "       ...,\n",
              "       [ 1.68172892, -1.0374109 ,  1.06152484,  1.2046896 ,  0.84108433,\n",
              "         1.51648402],\n",
              "       [ 1.70186938, -1.65343239,  1.10724453,  1.19518876,  0.95831813,\n",
              "         1.51648402],\n",
              "       [ 1.72200985,  0.29021105, -0.48024039, -0.51704085,  1.07555193,\n",
              "         1.51648402]])"
            ]
          },
          "metadata": {},
          "execution_count": 104
        }
      ]
    },
    {
      "cell_type": "code",
      "metadata": {
        "id": "oyT387qLOBxA"
      },
      "source": [
        "from sklearn.decomposition import PCA"
      ],
      "execution_count": 105,
      "outputs": []
    },
    {
      "cell_type": "code",
      "metadata": {
        "id": "ALkJ1pFJOBu7"
      },
      "source": [
        "pca=PCA(n_components=2)"
      ],
      "execution_count": 106,
      "outputs": []
    },
    {
      "cell_type": "code",
      "metadata": {
        "colab": {
          "base_uri": "https://localhost:8080/"
        },
        "id": "23tfJ36WOBgy",
        "outputId": "42a21e25-183b-4f3d-fa93-717c85336b37"
      },
      "source": [
        "pca.fit(scaled_data)"
      ],
      "execution_count": 107,
      "outputs": [
        {
          "output_type": "execute_result",
          "data": {
            "text/plain": [
              "PCA(copy=True, iterated_power='auto', n_components=2, random_state=None,\n",
              "    svd_solver='auto', tol=0.0, whiten=False)"
            ]
          },
          "metadata": {},
          "execution_count": 107
        }
      ]
    },
    {
      "cell_type": "code",
      "metadata": {
        "id": "TKsHyX9cOUVB"
      },
      "source": [
        "x_pca=pca.transform(scaled_data)"
      ],
      "execution_count": 108,
      "outputs": []
    },
    {
      "cell_type": "code",
      "metadata": {
        "colab": {
          "base_uri": "https://localhost:8080/"
        },
        "id": "Po36UEOYOUQT",
        "outputId": "bc792269-c2fb-4cef-e1c1-b3b2497f228e"
      },
      "source": [
        "scaled_data.shape"
      ],
      "execution_count": 109,
      "outputs": [
        {
          "output_type": "execute_result",
          "data": {
            "text/plain": [
              "(172, 6)"
            ]
          },
          "metadata": {},
          "execution_count": 109
        }
      ]
    },
    {
      "cell_type": "code",
      "metadata": {
        "colab": {
          "base_uri": "https://localhost:8080/"
        },
        "id": "xmI5L3uXOUO3",
        "outputId": "b2be5750-7e31-4909-eee4-980a6c402a63"
      },
      "source": [
        "x_pca.shape"
      ],
      "execution_count": 110,
      "outputs": [
        {
          "output_type": "execute_result",
          "data": {
            "text/plain": [
              "(172, 2)"
            ]
          },
          "metadata": {},
          "execution_count": 110
        }
      ]
    },
    {
      "cell_type": "code",
      "metadata": {
        "colab": {
          "base_uri": "https://localhost:8080/"
        },
        "id": "WtXAsRnvOUKx",
        "outputId": "cdd10804-44eb-4771-ca89-2f65489539c2"
      },
      "source": [
        "scaled_data"
      ],
      "execution_count": 111,
      "outputs": [
        {
          "output_type": "execute_result",
          "data": {
            "text/plain": [
              "array([[-1.72200985, -0.02726264, -1.18402603, -1.2299008 , -1.03465642,\n",
              "        -1.53779293],\n",
              "       [-1.70186938,  0.26435673, -0.89454218, -0.82849029, -0.91742262,\n",
              "        -1.53779293],\n",
              "       [-1.68172892,  1.23185963, -0.58396233, -0.7156678 , -0.80018882,\n",
              "        -1.53779293],\n",
              "       ...,\n",
              "       [ 1.68172892, -1.0374109 ,  1.06152484,  1.2046896 ,  0.84108433,\n",
              "         1.51648402],\n",
              "       [ 1.70186938, -1.65343239,  1.10724453,  1.19518876,  0.95831813,\n",
              "         1.51648402],\n",
              "       [ 1.72200985,  0.29021105, -0.48024039, -0.51704085,  1.07555193,\n",
              "         1.51648402]])"
            ]
          },
          "metadata": {},
          "execution_count": 111
        }
      ]
    },
    {
      "cell_type": "code",
      "metadata": {
        "colab": {
          "base_uri": "https://localhost:8080/"
        },
        "id": "CdHLvii7OUJM",
        "outputId": "784541e5-b070-433e-eeed-b7ed2e22badf"
      },
      "source": [
        "x_pca"
      ],
      "execution_count": 112,
      "outputs": [
        {
          "output_type": "execute_result",
          "data": {
            "text/plain": [
              "array([[-2.81104286, -0.96268229],\n",
              "       [-2.4884889 , -0.71051456],\n",
              "       [-2.37025037, -0.37976668],\n",
              "       [-2.11170257, -0.38657237],\n",
              "       [-2.10248286, -0.27613275],\n",
              "       [-2.19812177, -0.17226091],\n",
              "       [-2.00569223, -0.01332124],\n",
              "       [-1.96996509,  0.06175389],\n",
              "       [-1.85528449,  0.22215289],\n",
              "       [-1.86142312,  0.28142306],\n",
              "       [-2.04716458,  0.38650498],\n",
              "       [-2.03794487,  0.4969446 ],\n",
              "       [-1.83678177,  0.71165852],\n",
              "       [-1.91778818,  0.80442103],\n",
              "       [-1.89468075,  0.64192839],\n",
              "       [-1.94508263,  0.903371  ],\n",
              "       [-1.80194339,  0.98862579],\n",
              "       [-1.98262659,  1.15958233],\n",
              "       [-1.97340688,  1.27002195],\n",
              "       [-1.6274607 ,  1.23298615],\n",
              "       [-1.56024113,  1.34961407],\n",
              "       [-1.87215954,  1.81671845],\n",
              "       [-2.0274461 ,  2.34467902],\n",
              "       [-2.06985186,  2.00129903],\n",
              "       [-1.59102155, -1.51647709],\n",
              "       [-1.58180184, -1.40603746],\n",
              "       [-1.44273834, -1.41138611],\n",
              "       [-2.24258339, -0.85589491],\n",
              "       [-1.91401482, -1.22926873],\n",
              "       [-1.96187858, -1.1966537 ],\n",
              "       [-1.730814  , -1.01747202],\n",
              "       [-1.52648357, -0.74339973],\n",
              "       [-1.51726385, -0.63296011],\n",
              "       [-2.01272843, -0.67302493],\n",
              "       [-2.64963522, -0.33320166],\n",
              "       [-2.68662143, -0.38447861],\n",
              "       [-2.43458604, -0.27541354],\n",
              "       [-2.09373967, -0.32913759],\n",
              "       [-1.46194558,  0.02967762],\n",
              "       [-1.45272587,  0.14011724],\n",
              "       [-2.1178521 , -0.09496455],\n",
              "       [-2.06695317, -0.08737847],\n",
              "       [-2.45869406,  0.22496207],\n",
              "       [-2.06394252,  0.27316368],\n",
              "       [-2.04578018,  0.41205166],\n",
              "       [-1.39740759,  0.80275497],\n",
              "       [-1.38818788,  0.91319459],\n",
              "       [-1.88622482,  0.60655777],\n",
              "       [-1.88310183,  0.81008112],\n",
              "       [-1.83430658,  0.76662807],\n",
              "       [-2.10631379,  1.20593722],\n",
              "       [-2.10296655,  1.06621224],\n",
              "       [-1.3328696 ,  1.57583232],\n",
              "       [-1.32364989,  1.68627195],\n",
              "       [-1.31443018,  1.79671157],\n",
              "       [-1.77961916, -2.10242286],\n",
              "       [-1.72274617, -2.06798074],\n",
              "       [-1.8871209 , -1.82428486],\n",
              "       [-1.75298497, -1.69077025],\n",
              "       [-0.9404456 , -1.21129128],\n",
              "       [-0.93122589, -1.10085166],\n",
              "       [-1.63446822, -1.37897271],\n",
              "       [-1.4381175 , -1.18161982],\n",
              "       [-1.35218608, -1.23720275],\n",
              "       [-1.43308796, -0.99857107],\n",
              "       [-1.35757516, -1.05838387],\n",
              "       [-0.87590761, -0.43821393],\n",
              "       [-0.8666879 , -0.32777431],\n",
              "       [-1.33880406, -0.26713793],\n",
              "       [-0.99440499, -0.4300065 ],\n",
              "       [-1.18866161, -0.06522748],\n",
              "       [-1.04031825,  0.13546806],\n",
              "       [-1.12627139,  0.34895142],\n",
              "       [-0.81136962,  0.33486342],\n",
              "       [-0.80214991,  0.44530304],\n",
              "       [-0.94061457,  0.41324702],\n",
              "       [-0.66372078,  0.54412262],\n",
              "       [-0.46232127,  0.55111431],\n",
              "       [-0.50057031,  0.73933144],\n",
              "       [-0.55390231,  0.85438532],\n",
              "       [-0.74683164,  1.10794077],\n",
              "       [-0.73761192,  1.2183804 ],\n",
              "       [-0.36606542,  1.13762273],\n",
              "       [-0.23906692,  1.30621242],\n",
              "       [-0.07892315,  1.44353421],\n",
              "       [ 0.30748561, -1.99601335],\n",
              "       [ 0.43915912, -1.57070206],\n",
              "       [-0.3552266 , -1.56811864],\n",
              "       [-0.34600688, -1.45767902],\n",
              "       [-0.33678717, -1.3472394 ],\n",
              "       [ 0.63077243, -0.77570632],\n",
              "       [ 0.91324474, -0.62628377],\n",
              "       [ 0.75223937, -0.55431105],\n",
              "       [ 1.00401882, -0.43859466],\n",
              "       [-0.29068861, -0.79504129],\n",
              "       [-0.2814689 , -0.68460167],\n",
              "       [ 1.28467642, -0.28960339],\n",
              "       [ 1.19882958,  0.05657903],\n",
              "       [ 1.42153111,  0.50243382],\n",
              "       [ 1.53591505,  0.42716191],\n",
              "       [ 1.53669395,  0.39175869],\n",
              "       [-0.22615062, -0.02196394],\n",
              "       [-0.21693091,  0.08847569],\n",
              "       [ 0.82354294,  0.82020586],\n",
              "       [ 1.22818628,  0.77272254],\n",
              "       [ 1.40133066,  0.69909955],\n",
              "       [ 1.5872877 ,  0.88306495],\n",
              "       [ 1.72616953,  0.96578083],\n",
              "       [-0.16161263,  0.75111342],\n",
              "       [-0.15239292,  0.86155304],\n",
              "       [ 1.85914955,  1.33642674],\n",
              "       [ 1.52076033,  1.69745847],\n",
              "       [ 1.14108046,  1.85263148],\n",
              "       [ 1.60063221,  1.42266639],\n",
              "       [ 1.491054  ,  1.64697867],\n",
              "       [-0.09707464,  1.52419077],\n",
              "       [ 0.24003108, -1.92557057],\n",
              "       [ 1.99320004, -1.6227229 ],\n",
              "       [ 2.0511669 , -1.47802266],\n",
              "       [ 2.15856561, -1.43121627],\n",
              "       [ 2.22089537, -1.41217754],\n",
              "       [ 2.1116828 , -1.25192901],\n",
              "       [ 0.29534936, -1.26293284],\n",
              "       [ 0.30456907, -1.15249322],\n",
              "       [ 2.13864399, -0.97643743],\n",
              "       [ 2.07921397, -0.67014409],\n",
              "       [ 2.16120159, -0.75884426],\n",
              "       [ 2.18057592, -0.37567419],\n",
              "       [ 2.43857964, -0.35196832],\n",
              "       [ 0.35988734, -0.48985549],\n",
              "       [ 0.36910706, -0.37941586],\n",
              "       [ 2.20993669,  0.38143272],\n",
              "       [ 2.46726512,  0.43756746],\n",
              "       [ 2.28009067,  0.4331686 ],\n",
              "       [ 2.02967049,  0.479081  ],\n",
              "       [ 2.35323276,  0.3931985 ],\n",
              "       [ 0.42442533,  0.28322187],\n",
              "       [ 0.43364505,  0.39366149],\n",
              "       [ 2.54736959,  0.76570504],\n",
              "       [ 2.73575806,  0.80200661],\n",
              "       [ 2.57453386,  0.97697946],\n",
              "       [ 2.55585391,  0.96880798],\n",
              "       [ 2.46228612,  1.12806434],\n",
              "       [ 0.48896332,  1.05629922],\n",
              "       [ 0.49818303,  1.16673884],\n",
              "       [ 2.67129467,  1.88411298],\n",
              "       [ 2.82466724,  1.98371307],\n",
              "       [ 3.38576427, -1.46966601],\n",
              "       [ 3.43540548, -1.44558578],\n",
              "       [ 3.55592683, -1.44676655],\n",
              "       [ 0.88138732, -1.73082439],\n",
              "       [ 0.89060704, -1.62038477],\n",
              "       [ 0.89982675, -1.50994514],\n",
              "       [ 3.68401497, -0.71997021],\n",
              "       [ 3.70055137, -0.69091033],\n",
              "       [ 3.75150578, -0.75155621],\n",
              "       [ 2.93771834,  0.0262885 ],\n",
              "       [ 0.94592531, -0.95774704],\n",
              "       [ 0.95514502, -0.84730741],\n",
              "       [ 2.95094226, -0.05792255],\n",
              "       [ 2.79162928,  0.08089525],\n",
              "       [ 2.82196856, -0.08004431],\n",
              "       [ 2.94095055, -0.10262575],\n",
              "       [ 2.50320455,  0.54417407],\n",
              "       [ 1.0104633 , -0.18466968],\n",
              "       [ 1.01968301, -0.07423006],\n",
              "       [ 2.06966224,  0.68255941],\n",
              "       [ 2.4253362 ,  0.37980427],\n",
              "       [ 2.59231658,  0.53977462],\n",
              "       [ 2.82003401,  0.58588237],\n",
              "       [ 2.91184142,  0.59836782],\n",
              "       [ 1.07500129,  0.58840767]])"
            ]
          },
          "metadata": {},
          "execution_count": 112
        }
      ]
    },
    {
      "cell_type": "code",
      "metadata": {
        "id": "yDmeHtQkVJCi"
      },
      "source": [
        "#logistic regression"
      ],
      "execution_count": 113,
      "outputs": []
    },
    {
      "cell_type": "code",
      "metadata": {
        "id": "H-lzxxB0LcgM"
      },
      "source": [
        "AAPL_X_regression_sameday_train, AAPL_X_regression_sameday_test, AAPL_Y_Percentage_sameDay_train, AAPL_Y_Percentage_sameDay_test = train_test_split(x_pca, AAPL_Y_Percentage_sameDay, test_size=0.30, random_state=2)"
      ],
      "execution_count": 114,
      "outputs": []
    },
    {
      "cell_type": "code",
      "metadata": {
        "id": "2zA-jDa6LcgN"
      },
      "source": [
        "#AAPL_X_regression_previousday_train, AAPL_X_regression_previousday_test, AAPL_Y_Percentage_previousDay_train, AAPL_Y_Percentage_previousDay_test = train_test_split(x_pca, AAPL_Y_Percentage_previousDay, test_size=0.30, random_state=2)"
      ],
      "execution_count": 115,
      "outputs": []
    },
    {
      "cell_type": "code",
      "metadata": {
        "colab": {
          "base_uri": "https://localhost:8080/"
        },
        "id": "3Qgh70RQmmUo",
        "outputId": "98047eb4-47a6-4e94-c858-ded4f392f825"
      },
      "source": [
        "from sklearn.linear_model import LogisticRegression  \n",
        "classifier= LogisticRegression(random_state=0)  \n",
        "classifier.fit(AAPL_X_regression_sameday_train,  AAPL_Y_Percentage_sameDay_train)  "
      ],
      "execution_count": 116,
      "outputs": [
        {
          "output_type": "execute_result",
          "data": {
            "text/plain": [
              "LogisticRegression(C=1.0, class_weight=None, dual=False, fit_intercept=True,\n",
              "                   intercept_scaling=1, l1_ratio=None, max_iter=100,\n",
              "                   multi_class='auto', n_jobs=None, penalty='l2',\n",
              "                   random_state=0, solver='lbfgs', tol=0.0001, verbose=0,\n",
              "                   warm_start=False)"
            ]
          },
          "metadata": {},
          "execution_count": 116
        }
      ]
    },
    {
      "cell_type": "code",
      "metadata": {
        "id": "ihi0r6TTm-Iw"
      },
      "source": [
        "y_pred= classifier.predict(AAPL_X_regression_sameday_test)  "
      ],
      "execution_count": 117,
      "outputs": []
    },
    {
      "cell_type": "code",
      "metadata": {
        "colab": {
          "base_uri": "https://localhost:8080/"
        },
        "id": "4TQW1cLHm-Uf",
        "outputId": "a625ca64-d09a-4e95-e7ab-9b42b01fa6b0"
      },
      "source": [
        "y_pred"
      ],
      "execution_count": 118,
      "outputs": [
        {
          "output_type": "execute_result",
          "data": {
            "text/plain": [
              "array([-1, -1, -1, -1, -1, -1, -1, -1, -1, -1, -1, -1, -1, -1, -1, -1, -1,\n",
              "       -1, -1, -1,  0, -1, -1, -1, -1, -1, -1, -1,  0, -1, -1, -1, -1, -1,\n",
              "       -1, -1, -1, -1, -1, -1, -1, -1, -1, -1, -1, -1, -1, -1, -1, -1, -1,\n",
              "       -1])"
            ]
          },
          "metadata": {},
          "execution_count": 118
        }
      ]
    },
    {
      "cell_type": "code",
      "metadata": {
        "id": "73jkHFIpnj7Y"
      },
      "source": [
        "# Confusion matrix  and accuracy report of same day"
      ],
      "execution_count": 137,
      "outputs": []
    },
    {
      "cell_type": "code",
      "metadata": {
        "colab": {
          "base_uri": "https://localhost:8080/"
        },
        "id": "PLEv-qGZysY2",
        "outputId": "ee4c91f3-4f02-4daa-db1a-61273faeadac"
      },
      "source": [
        "from sklearn.metrics import confusion_matrix \n",
        "cm = confusion_matrix(AAPL_Y_Percentage_sameDay_test,y_pred)  \n",
        "cm"
      ],
      "execution_count": 129,
      "outputs": [
        {
          "output_type": "execute_result",
          "data": {
            "text/plain": [
              "array([[28,  0,  0],\n",
              "       [ 6,  2,  0],\n",
              "       [16,  0,  0]])"
            ]
          },
          "metadata": {},
          "execution_count": 129
        }
      ]
    },
    {
      "cell_type": "code",
      "metadata": {
        "colab": {
          "base_uri": "https://localhost:8080/"
        },
        "id": "WRD7F0DjnzyB",
        "outputId": "4869b01a-ad47-49b5-d3e7-14b0b1f5343e"
      },
      "source": [
        "from sklearn.metrics import classification_report\n",
        "# Classification Report\n",
        "matrix = classification_report(AAPL_Y_Percentage_sameDay_test,y_pred)\n",
        "print(\"Classification Report For Same day: \\n\",matrix)"
      ],
      "execution_count": 128,
      "outputs": [
        {
          "output_type": "stream",
          "name": "stdout",
          "text": [
            "Classification Report For Same day: \n",
            "               precision    recall  f1-score   support\n",
            "\n",
            "          -1       0.56      1.00      0.72        28\n",
            "           0       1.00      0.25      0.40         8\n",
            "           1       0.00      0.00      0.00        16\n",
            "\n",
            "    accuracy                           0.58        52\n",
            "   macro avg       0.52      0.42      0.37        52\n",
            "weighted avg       0.46      0.58      0.45        52\n",
            "\n"
          ]
        },
        {
          "output_type": "stream",
          "name": "stderr",
          "text": [
            "/usr/local/lib/python3.7/dist-packages/sklearn/metrics/_classification.py:1272: UndefinedMetricWarning: Precision and F-score are ill-defined and being set to 0.0 in labels with no predicted samples. Use `zero_division` parameter to control this behavior.\n",
            "  _warn_prf(average, modifier, msg_start, len(result))\n"
          ]
        }
      ]
    },
    {
      "cell_type": "code",
      "metadata": {
        "colab": {
          "base_uri": "https://localhost:8080/"
        },
        "id": "A_F_fN_GrN8R",
        "outputId": "fd7f7ff3-984a-4c77-ff7f-368a92b85021"
      },
      "source": [
        "cm"
      ],
      "execution_count": 125,
      "outputs": [
        {
          "output_type": "execute_result",
          "data": {
            "text/plain": [
              "array([[28,  0,  0],\n",
              "       [ 6,  2,  0],\n",
              "       [16,  0,  0]])"
            ]
          },
          "metadata": {},
          "execution_count": 125
        }
      ]
    },
    {
      "cell_type": "code",
      "metadata": {
        "id": "Cs4VZyk62D78"
      },
      "source": [
        "#previousday"
      ],
      "execution_count": 135,
      "outputs": []
    },
    {
      "cell_type": "code",
      "metadata": {
        "id": "7-HmjmnuvulT"
      },
      "source": [
        "AAPL_X_regression_previousday_train, AAPL_X_regression_previousday_test, AAPL_Y_Percentage_previousDay_train, AAPL_Y_Percentage_previousDay_test = train_test_split(x_pca, AAPL_Y_Percentage_previousDay, test_size=0.30, random_state=2)"
      ],
      "execution_count": 133,
      "outputs": []
    },
    {
      "cell_type": "code",
      "metadata": {
        "colab": {
          "base_uri": "https://localhost:8080/"
        },
        "id": "bi74-bcZyC8y",
        "outputId": "40b5e921-2cfc-410c-d4ba-06a48518c76e"
      },
      "source": [
        "from sklearn.linear_model import LogisticRegression  \n",
        "classifier= LogisticRegression(random_state=0)  \n",
        "classifier.fit(AAPL_X_regression_previousday_train,  AAPL_Y_Percentage_previousDay_train)  \n",
        "y_pred= classifier.predict(AAPL_X_regression_sameday_test)\n",
        "y_pred "
      ],
      "execution_count": 141,
      "outputs": [
        {
          "output_type": "execute_result",
          "data": {
            "text/plain": [
              "array([-1, -1, -1, -1,  1, -1, -1,  1, -1, -1,  1, -1, -1, -1, -1,  1, -1,\n",
              "       -1, -1,  1,  1,  1, -1, -1, -1,  1, -1, -1,  1, -1,  1, -1, -1,  1,\n",
              "        1, -1,  1, -1,  1,  1,  1, -1, -1, -1, -1, -1, -1,  1,  1, -1,  1,\n",
              "       -1])"
            ]
          },
          "metadata": {},
          "execution_count": 141
        }
      ]
    },
    {
      "cell_type": "code",
      "metadata": {
        "colab": {
          "base_uri": "https://localhost:8080/"
        },
        "id": "HxHrCSbV2vUy",
        "outputId": "e6b298cb-197e-498e-f909-f548266d8307"
      },
      "source": [
        "from sklearn.metrics import confusion_matrix \n",
        "cm = confusion_matrix(AAPL_Y_Percentage_previousDay_test,y_pred)  \n",
        "cm"
      ],
      "execution_count": 142,
      "outputs": [
        {
          "output_type": "execute_result",
          "data": {
            "text/plain": [
              "array([[17,  0,  7],\n",
              "       [ 7,  0,  4],\n",
              "       [ 9,  0,  8]])"
            ]
          },
          "metadata": {},
          "execution_count": 142
        }
      ]
    },
    {
      "cell_type": "code",
      "metadata": {
        "colab": {
          "base_uri": "https://localhost:8080/"
        },
        "id": "KsY-C_9R27e2",
        "outputId": "70bee3a7-bddc-4e10-b1cd-c3a6abd1e1f2"
      },
      "source": [
        "from sklearn.metrics import classification_report\n",
        "# Classification Report\n",
        "matrix = classification_report(AAPL_Y_Percentage_previousDay_test,y_pred)\n",
        "print(\"Classification Report For Previous day: \\n\",matrix)"
      ],
      "execution_count": 148,
      "outputs": [
        {
          "output_type": "stream",
          "name": "stdout",
          "text": [
            "Classification Report For Previous day: \n",
            "               precision    recall  f1-score   support\n",
            "\n",
            "          -1       0.52      0.71      0.60        24\n",
            "           0       0.00      0.00      0.00        11\n",
            "           1       0.42      0.47      0.44        17\n",
            "\n",
            "    accuracy                           0.48        52\n",
            "   macro avg       0.31      0.39      0.35        52\n",
            "weighted avg       0.38      0.48      0.42        52\n",
            "\n"
          ]
        },
        {
          "output_type": "stream",
          "name": "stderr",
          "text": [
            "/usr/local/lib/python3.7/dist-packages/sklearn/metrics/_classification.py:1272: UndefinedMetricWarning: Precision and F-score are ill-defined and being set to 0.0 in labels with no predicted samples. Use `zero_division` parameter to control this behavior.\n",
            "  _warn_prf(average, modifier, msg_start, len(result))\n"
          ]
        }
      ]
    },
    {
      "cell_type": "markdown",
      "metadata": {
        "id": "nZdXbg5PLcgN"
      },
      "source": [
        "# AMZN"
      ]
    },
    {
      "cell_type": "code",
      "metadata": {
        "id": "ro5n9_-tLcgO"
      },
      "source": [
        "AMZN_df=pd.read_csv('/content/AMZN_modeling_data.csv')"
      ],
      "execution_count": 131,
      "outputs": []
    },
    {
      "cell_type": "code",
      "metadata": {
        "colab": {
          "base_uri": "https://localhost:8080/",
          "height": 326
        },
        "id": "EZr83GECzYZN",
        "outputId": "d3ba0a71-7f41-4c38-ecd1-b6e9cd514998"
      },
      "source": [
        "AMZN_df.head()\n"
      ],
      "execution_count": 132,
      "outputs": [
        {
          "output_type": "execute_result",
          "data": {
            "text/html": [
              "<div>\n",
              "<style scoped>\n",
              "    .dataframe tbody tr th:only-of-type {\n",
              "        vertical-align: middle;\n",
              "    }\n",
              "\n",
              "    .dataframe tbody tr th {\n",
              "        vertical-align: top;\n",
              "    }\n",
              "\n",
              "    .dataframe thead th {\n",
              "        text-align: right;\n",
              "    }\n",
              "</style>\n",
              "<table border=\"1\" class=\"dataframe\">\n",
              "  <thead>\n",
              "    <tr style=\"text-align: right;\">\n",
              "      <th></th>\n",
              "      <th>Unnamed: 0</th>\n",
              "      <th>Date</th>\n",
              "      <th>Close/Last</th>\n",
              "      <th>Volume</th>\n",
              "      <th>Open</th>\n",
              "      <th>High</th>\n",
              "      <th>Low</th>\n",
              "      <th>SameDay_Binary</th>\n",
              "      <th>PreviousDay_Binary</th>\n",
              "      <th>SameDay_Percentage</th>\n",
              "      <th>PreviousDay_Percentage</th>\n",
              "    </tr>\n",
              "  </thead>\n",
              "  <tbody>\n",
              "    <tr>\n",
              "      <th>0</th>\n",
              "      <td>0</td>\n",
              "      <td>2021-04-07</td>\n",
              "      <td>3279.390</td>\n",
              "      <td>3346227.0</td>\n",
              "      <td>3233.800</td>\n",
              "      <td>3303.6125</td>\n",
              "      <td>3223.650</td>\n",
              "      <td>1</td>\n",
              "      <td>0</td>\n",
              "      <td>1</td>\n",
              "      <td>-1</td>\n",
              "    </tr>\n",
              "    <tr>\n",
              "      <th>1</th>\n",
              "      <td>1</td>\n",
              "      <td>2021-04-08</td>\n",
              "      <td>3299.300</td>\n",
              "      <td>2812090.0</td>\n",
              "      <td>3310.900</td>\n",
              "      <td>3324.5000</td>\n",
              "      <td>3292.000</td>\n",
              "      <td>0</td>\n",
              "      <td>1</td>\n",
              "      <td>0</td>\n",
              "      <td>1</td>\n",
              "    </tr>\n",
              "    <tr>\n",
              "      <th>2</th>\n",
              "      <td>2</td>\n",
              "      <td>2021-04-09</td>\n",
              "      <td>3372.200</td>\n",
              "      <td>4341473.0</td>\n",
              "      <td>3304.700</td>\n",
              "      <td>3372.2000</td>\n",
              "      <td>3288.900</td>\n",
              "      <td>1</td>\n",
              "      <td>1</td>\n",
              "      <td>1</td>\n",
              "      <td>1</td>\n",
              "    </tr>\n",
              "    <tr>\n",
              "      <th>3</th>\n",
              "      <td>3</td>\n",
              "      <td>2021-04-10</td>\n",
              "      <td>3356.195</td>\n",
              "      <td>3213501.0</td>\n",
              "      <td>3379.625</td>\n",
              "      <td>3399.5850</td>\n",
              "      <td>3338.575</td>\n",
              "      <td>0</td>\n",
              "      <td>0</td>\n",
              "      <td>-1</td>\n",
              "      <td>1</td>\n",
              "    </tr>\n",
              "    <tr>\n",
              "      <th>4</th>\n",
              "      <td>4</td>\n",
              "      <td>2021-04-11</td>\n",
              "      <td>3356.195</td>\n",
              "      <td>3213501.0</td>\n",
              "      <td>3379.625</td>\n",
              "      <td>3399.5850</td>\n",
              "      <td>3338.575</td>\n",
              "      <td>0</td>\n",
              "      <td>0</td>\n",
              "      <td>-1</td>\n",
              "      <td>-1</td>\n",
              "    </tr>\n",
              "  </tbody>\n",
              "</table>\n",
              "</div>"
            ],
            "text/plain": [
              "   Unnamed: 0        Date  ...  SameDay_Percentage  PreviousDay_Percentage\n",
              "0           0  2021-04-07  ...                   1                      -1\n",
              "1           1  2021-04-08  ...                   0                       1\n",
              "2           2  2021-04-09  ...                   1                       1\n",
              "3           3  2021-04-10  ...                  -1                       1\n",
              "4           4  2021-04-11  ...                  -1                      -1\n",
              "\n",
              "[5 rows x 11 columns]"
            ]
          },
          "metadata": {},
          "execution_count": 132
        }
      ]
    },
    {
      "cell_type": "code",
      "metadata": {
        "colab": {
          "base_uri": "https://localhost:8080/"
        },
        "id": "K6-SLAjQzubY",
        "outputId": "13aab42d-1d76-419c-f94a-dbebe58bebaf"
      },
      "source": [
        "AMZN_df.shape"
      ],
      "execution_count": 144,
      "outputs": [
        {
          "output_type": "execute_result",
          "data": {
            "text/plain": [
              "(172, 11)"
            ]
          },
          "metadata": {},
          "execution_count": 144
        }
      ]
    },
    {
      "cell_type": "code",
      "metadata": {
        "id": "z9rrT87lzuYr"
      },
      "source": [
        "AMZN_df[\"day\"] = AAPL_df['Date'].map(lambda x: pd.to_datetime(x).day)\n",
        "AMZN_df[\"month\"] = AAPL_df['Date'].map(lambda x: pd.to_datetime(x).month)\n",
        "AMZN_df[\"year\"] = AAPL_df['Date'].map(lambda x: pd.to_datetime(x).year)"
      ],
      "execution_count": 145,
      "outputs": []
    },
    {
      "cell_type": "code",
      "metadata": {
        "colab": {
          "base_uri": "https://localhost:8080/",
          "height": 326
        },
        "id": "Co2_UD_1zuUP",
        "outputId": "3f4bf4c5-aa5e-4565-c0ec-c07c17ab9cbd"
      },
      "source": [
        "AMZN_df.head()"
      ],
      "execution_count": 146,
      "outputs": [
        {
          "output_type": "execute_result",
          "data": {
            "text/html": [
              "<div>\n",
              "<style scoped>\n",
              "    .dataframe tbody tr th:only-of-type {\n",
              "        vertical-align: middle;\n",
              "    }\n",
              "\n",
              "    .dataframe tbody tr th {\n",
              "        vertical-align: top;\n",
              "    }\n",
              "\n",
              "    .dataframe thead th {\n",
              "        text-align: right;\n",
              "    }\n",
              "</style>\n",
              "<table border=\"1\" class=\"dataframe\">\n",
              "  <thead>\n",
              "    <tr style=\"text-align: right;\">\n",
              "      <th></th>\n",
              "      <th>Unnamed: 0</th>\n",
              "      <th>Date</th>\n",
              "      <th>Close/Last</th>\n",
              "      <th>Volume</th>\n",
              "      <th>Open</th>\n",
              "      <th>High</th>\n",
              "      <th>Low</th>\n",
              "      <th>SameDay_Binary</th>\n",
              "      <th>PreviousDay_Binary</th>\n",
              "      <th>SameDay_Percentage</th>\n",
              "      <th>PreviousDay_Percentage</th>\n",
              "      <th>day</th>\n",
              "      <th>month</th>\n",
              "      <th>year</th>\n",
              "    </tr>\n",
              "  </thead>\n",
              "  <tbody>\n",
              "    <tr>\n",
              "      <th>0</th>\n",
              "      <td>0</td>\n",
              "      <td>2021-04-07</td>\n",
              "      <td>3279.390</td>\n",
              "      <td>3346227.0</td>\n",
              "      <td>3233.800</td>\n",
              "      <td>3303.6125</td>\n",
              "      <td>3223.650</td>\n",
              "      <td>1</td>\n",
              "      <td>0</td>\n",
              "      <td>1</td>\n",
              "      <td>-1</td>\n",
              "      <td>7</td>\n",
              "      <td>4</td>\n",
              "      <td>2021</td>\n",
              "    </tr>\n",
              "    <tr>\n",
              "      <th>1</th>\n",
              "      <td>1</td>\n",
              "      <td>2021-04-08</td>\n",
              "      <td>3299.300</td>\n",
              "      <td>2812090.0</td>\n",
              "      <td>3310.900</td>\n",
              "      <td>3324.5000</td>\n",
              "      <td>3292.000</td>\n",
              "      <td>0</td>\n",
              "      <td>1</td>\n",
              "      <td>0</td>\n",
              "      <td>1</td>\n",
              "      <td>8</td>\n",
              "      <td>4</td>\n",
              "      <td>2021</td>\n",
              "    </tr>\n",
              "    <tr>\n",
              "      <th>2</th>\n",
              "      <td>2</td>\n",
              "      <td>2021-04-09</td>\n",
              "      <td>3372.200</td>\n",
              "      <td>4341473.0</td>\n",
              "      <td>3304.700</td>\n",
              "      <td>3372.2000</td>\n",
              "      <td>3288.900</td>\n",
              "      <td>1</td>\n",
              "      <td>1</td>\n",
              "      <td>1</td>\n",
              "      <td>1</td>\n",
              "      <td>9</td>\n",
              "      <td>4</td>\n",
              "      <td>2021</td>\n",
              "    </tr>\n",
              "    <tr>\n",
              "      <th>3</th>\n",
              "      <td>3</td>\n",
              "      <td>2021-04-10</td>\n",
              "      <td>3356.195</td>\n",
              "      <td>3213501.0</td>\n",
              "      <td>3379.625</td>\n",
              "      <td>3399.5850</td>\n",
              "      <td>3338.575</td>\n",
              "      <td>0</td>\n",
              "      <td>0</td>\n",
              "      <td>-1</td>\n",
              "      <td>1</td>\n",
              "      <td>10</td>\n",
              "      <td>4</td>\n",
              "      <td>2021</td>\n",
              "    </tr>\n",
              "    <tr>\n",
              "      <th>4</th>\n",
              "      <td>4</td>\n",
              "      <td>2021-04-11</td>\n",
              "      <td>3356.195</td>\n",
              "      <td>3213501.0</td>\n",
              "      <td>3379.625</td>\n",
              "      <td>3399.5850</td>\n",
              "      <td>3338.575</td>\n",
              "      <td>0</td>\n",
              "      <td>0</td>\n",
              "      <td>-1</td>\n",
              "      <td>-1</td>\n",
              "      <td>11</td>\n",
              "      <td>4</td>\n",
              "      <td>2021</td>\n",
              "    </tr>\n",
              "  </tbody>\n",
              "</table>\n",
              "</div>"
            ],
            "text/plain": [
              "   Unnamed: 0        Date  Close/Last  ...  day  month  year\n",
              "0           0  2021-04-07    3279.390  ...    7      4  2021\n",
              "1           1  2021-04-08    3299.300  ...    8      4  2021\n",
              "2           2  2021-04-09    3372.200  ...    9      4  2021\n",
              "3           3  2021-04-10    3356.195  ...   10      4  2021\n",
              "4           4  2021-04-11    3356.195  ...   11      4  2021\n",
              "\n",
              "[5 rows x 14 columns]"
            ]
          },
          "metadata": {},
          "execution_count": 146
        }
      ]
    },
    {
      "cell_type": "code",
      "metadata": {
        "id": "r_-y6x0uzuSe"
      },
      "source": [
        "from sklearn.model_selection import train_test_split"
      ],
      "execution_count": 147,
      "outputs": []
    },
    {
      "cell_type": "code",
      "metadata": {
        "id": "ey5n705p0SAo"
      },
      "source": [
        ""
      ],
      "execution_count": null,
      "outputs": []
    },
    {
      "cell_type": "code",
      "metadata": {
        "id": "oZBhxBBpLcgP"
      },
      "source": [
        "AMZN_X_classification=AMZN_df['Date']\n",
        "AMZN_X_regression=AMZN_df.drop([\"Open\",\"Close/Last\",\"SameDay_Binary\",\"PreviousDay_Binary\",\"SameDay_Percentage\",\"PreviousDay_Percentage\",\"year\",\"Date\"],axis =1 )\n",
        "\n",
        "AMZN_Y_Binary_sameDay = AMZN_df[\"SameDay_Binary\"]\n",
        "AMZN_Y_Binary_previousDay = AMZN_df[\"PreviousDay_Binary\"]\n",
        "AMZN_Y_Percentage_sameDay = AMZN_df[\"SameDay_Percentage\"]\n",
        "AMZN_Y_Percentage_previousDay = AMZN_df[\"PreviousDay_Percentage\"]"
      ],
      "execution_count": 149,
      "outputs": []
    },
    {
      "cell_type": "code",
      "metadata": {
        "id": "n9DKxnHDBQ5j"
      },
      "source": [
        "#PCA"
      ],
      "execution_count": null,
      "outputs": []
    },
    {
      "cell_type": "code",
      "metadata": {
        "colab": {
          "base_uri": "https://localhost:8080/"
        },
        "id": "cZozvvk40_7O",
        "outputId": "d03b6319-6249-4be7-a4a2-b303249aea80"
      },
      "source": [
        "from sklearn.preprocessing import MinMaxScaler\n",
        "from sklearn.preprocessing import StandardScaler\n",
        "scaler=StandardScaler()\n",
        "scaler.fit(AMZN_X_regression)\n",
        "scaler=StandardScaler()\n",
        "scaler.fit(AMZN_X_regression)\n",
        "scaled_data=scaler.transform(AMZN_X_regression)\n",
        "scaled_data"
      ],
      "execution_count": 150,
      "outputs": [
        {
          "output_type": "execute_result",
          "data": {
            "text/plain": [
              "array([[-1.72200985,  0.0141397 , -0.93650836, -1.15406566, -1.03465642,\n",
              "        -1.53779293],\n",
              "       [-1.70186938, -0.48836741, -0.76250172, -0.55870894, -0.91742262,\n",
              "        -1.53779293],\n",
              "       [-1.68172892,  0.95045042, -0.3651293 , -0.58571122, -0.80018882,\n",
              "        -1.53779293],\n",
              "       ...,\n",
              "       [ 1.68172892, -0.89542172,  0.1077189 ,  0.2082429 ,  0.84108433,\n",
              "         1.51648402],\n",
              "       [ 1.70186938, -1.14301046,  0.1102181 ,  0.32452691,  0.95831813,\n",
              "         1.51648402],\n",
              "       [ 1.72200985, -0.11072669, -0.1369942 , -0.15302147,  1.07555193,\n",
              "         1.51648402]])"
            ]
          },
          "metadata": {},
          "execution_count": 150
        }
      ]
    },
    {
      "cell_type": "code",
      "metadata": {
        "id": "O4DyQrPz507g"
      },
      "source": [
        "from sklearn.decomposition import PCA\n",
        "pca=PCA(n_components=2)\n",
        "pca.fit(scaled_data)\n",
        "x_pca=pca.transform(scaled_data)\n",
        "scaled_data"
      ],
      "execution_count": 151,
      "outputs": []
    },
    {
      "cell_type": "code",
      "metadata": {
        "colab": {
          "base_uri": "https://localhost:8080/"
        },
        "id": "E4xAnQ076Ara",
        "outputId": "53aec1f5-4896-4551-93a0-c73ce7a0449d"
      },
      "source": [
        "scaled_data.shape\n"
      ],
      "execution_count": 153,
      "outputs": [
        {
          "output_type": "execute_result",
          "data": {
            "text/plain": [
              "(172, 6)"
            ]
          },
          "metadata": {},
          "execution_count": 153
        }
      ]
    },
    {
      "cell_type": "code",
      "metadata": {
        "colab": {
          "base_uri": "https://localhost:8080/"
        },
        "id": "2uOIZWaM6bHx",
        "outputId": "ab56d758-5fa1-440d-eb70-49c9b25eca99"
      },
      "source": [
        "x_pca.shape"
      ],
      "execution_count": 154,
      "outputs": [
        {
          "output_type": "execute_result",
          "data": {
            "text/plain": [
              "(172, 2)"
            ]
          },
          "metadata": {},
          "execution_count": 154
        }
      ]
    },
    {
      "cell_type": "code",
      "metadata": {
        "id": "LnMpBOUsLcgP"
      },
      "source": [
        "AMZN_X_classification_sameDay_train, AMZN_X_classification_sameDay_test, AMZN_Y_Binary_sameDay_train, AMZN_Y_Binary_sameDay_test = train_test_split(AMZN_X_classification, AMZN_Y_Binary_sameDay, test_size=0.30, random_state=2)"
      ],
      "execution_count": 155,
      "outputs": []
    },
    {
      "cell_type": "code",
      "metadata": {
        "id": "D1x2pwhKLcgQ"
      },
      "source": [
        "AMZN_X_classification_previousDay_train, AMZN_X_classification_previousDay_test, AMZN_Y_Binary_previousDay_train,AMZN_Y_Binary_previousDay_test = train_test_split(AMZN_X_classification, AMZN_Y_Binary_previousDay, test_size=0.30, random_state=2)"
      ],
      "execution_count": 156,
      "outputs": []
    },
    {
      "cell_type": "code",
      "metadata": {
        "id": "fgMnhIpg6qVM"
      },
      "source": [
        "#sameday regression"
      ],
      "execution_count": 157,
      "outputs": []
    },
    {
      "cell_type": "code",
      "metadata": {
        "id": "s3yj59tpLcgQ"
      },
      "source": [
        "AMZN_X_regression_sameday_train, AMZN_X_regression_sameday_test, AMZN_Y_Percentage_sameDay_train, AMZN_Y_Percentage_sameDay_test = train_test_split(x_pca, AMZN_Y_Percentage_sameDay, test_size=0.30, random_state=2)"
      ],
      "execution_count": 158,
      "outputs": []
    },
    {
      "cell_type": "code",
      "metadata": {
        "colab": {
          "base_uri": "https://localhost:8080/"
        },
        "id": "t7wWwcOa6pVA",
        "outputId": "4574fc07-9024-4f8c-f5de-0673827b4162"
      },
      "source": [
        "from sklearn.linear_model import LogisticRegression  \n",
        "classifier= LogisticRegression(random_state=0)  \n",
        "classifier.fit(AMZN_X_regression_sameday_train,  AMZN_Y_Percentage_sameDay_train)  "
      ],
      "execution_count": 164,
      "outputs": [
        {
          "output_type": "execute_result",
          "data": {
            "text/plain": [
              "LogisticRegression(C=1.0, class_weight=None, dual=False, fit_intercept=True,\n",
              "                   intercept_scaling=1, l1_ratio=None, max_iter=100,\n",
              "                   multi_class='auto', n_jobs=None, penalty='l2',\n",
              "                   random_state=0, solver='lbfgs', tol=0.0001, verbose=0,\n",
              "                   warm_start=False)"
            ]
          },
          "metadata": {},
          "execution_count": 164
        }
      ]
    },
    {
      "cell_type": "code",
      "metadata": {
        "colab": {
          "base_uri": "https://localhost:8080/"
        },
        "id": "gzi6KXxK6pQL",
        "outputId": "79db871f-a509-42ef-efb4-57e540e16966"
      },
      "source": [
        "y_pred= classifier.predict(AMZN_X_regression_sameday_test)  \n",
        "y_pred"
      ],
      "execution_count": 165,
      "outputs": [
        {
          "output_type": "execute_result",
          "data": {
            "text/plain": [
              "array([-1, -1, -1, -1, -1, -1, -1, -1, -1, -1, -1, -1, -1, -1, -1, -1, -1,\n",
              "       -1, -1, -1, -1, -1, -1, -1, -1, -1, -1, -1, -1, -1, -1, -1, -1, -1,\n",
              "       -1, -1, -1, -1, -1, -1, -1, -1, -1, -1, -1, -1, -1, -1, -1, -1, -1,\n",
              "       -1])"
            ]
          },
          "metadata": {},
          "execution_count": 165
        }
      ]
    },
    {
      "cell_type": "code",
      "metadata": {
        "id": "-g4hIfBG7_vb"
      },
      "source": [
        "#sameday confusionmatrix and classification report"
      ],
      "execution_count": 161,
      "outputs": []
    },
    {
      "cell_type": "code",
      "metadata": {
        "colab": {
          "base_uri": "https://localhost:8080/"
        },
        "id": "NwWOdyWt6pOM",
        "outputId": "11dbb980-b149-4e62-ebc0-fc9e9b41c7b7"
      },
      "source": [
        "from sklearn.metrics import confusion_matrix \n",
        "cm = confusion_matrix(AMZN_Y_Percentage_sameDay_test,y_pred)  \n",
        "cm"
      ],
      "execution_count": 166,
      "outputs": [
        {
          "output_type": "execute_result",
          "data": {
            "text/plain": [
              "array([[30,  0,  0],\n",
              "       [ 7,  0,  0],\n",
              "       [15,  0,  0]])"
            ]
          },
          "metadata": {},
          "execution_count": 166
        }
      ]
    },
    {
      "cell_type": "code",
      "metadata": {
        "colab": {
          "base_uri": "https://localhost:8080/"
        },
        "id": "Vg9UfmSr8qkt",
        "outputId": "3be52232-741c-4bac-ebe4-b0a736501322"
      },
      "source": [
        "from sklearn.metrics import classification_report\n",
        "# Classification Report\n",
        "matrix = classification_report(AMZN_Y_Percentage_sameDay_test,y_pred)\n",
        "print(\"Classification Report For Same day: \\n\",matrix)"
      ],
      "execution_count": 167,
      "outputs": [
        {
          "output_type": "stream",
          "name": "stdout",
          "text": [
            "Classification Report For Same day: \n",
            "               precision    recall  f1-score   support\n",
            "\n",
            "          -1       0.58      1.00      0.73        30\n",
            "           0       0.00      0.00      0.00         7\n",
            "           1       0.00      0.00      0.00        15\n",
            "\n",
            "    accuracy                           0.58        52\n",
            "   macro avg       0.19      0.33      0.24        52\n",
            "weighted avg       0.33      0.58      0.42        52\n",
            "\n"
          ]
        },
        {
          "output_type": "stream",
          "name": "stderr",
          "text": [
            "/usr/local/lib/python3.7/dist-packages/sklearn/metrics/_classification.py:1272: UndefinedMetricWarning: Precision and F-score are ill-defined and being set to 0.0 in labels with no predicted samples. Use `zero_division` parameter to control this behavior.\n",
            "  _warn_prf(average, modifier, msg_start, len(result))\n"
          ]
        }
      ]
    },
    {
      "cell_type": "code",
      "metadata": {
        "id": "BbnY0JIn9QXs"
      },
      "source": [
        "#previousday regression"
      ],
      "execution_count": null,
      "outputs": []
    },
    {
      "cell_type": "code",
      "metadata": {
        "id": "dTdeEhP-LcgQ"
      },
      "source": [
        "AMZN_X_regression_previousday_train, AMZN_X_regression_previousday_test, AMZN_Y_Percentage_previousDay_train, AMZN_Y_Percentage_previousDay_test = train_test_split(x_pca, AMZN_Y_Percentage_previousDay, test_size=0.30, random_state=2)"
      ],
      "execution_count": 168,
      "outputs": []
    },
    {
      "cell_type": "code",
      "metadata": {
        "colab": {
          "base_uri": "https://localhost:8080/"
        },
        "id": "0ccl3KzG7B_R",
        "outputId": "c3d58253-7f84-40f2-d58e-ce8817e63f67"
      },
      "source": [
        "from sklearn.linear_model import LogisticRegression  \n",
        "classifier= LogisticRegression(random_state=0)  \n",
        "classifier.fit(AMZN_X_regression_previousday_train,  AMZN_Y_Percentage_previousDay_train)"
      ],
      "execution_count": 169,
      "outputs": [
        {
          "output_type": "execute_result",
          "data": {
            "text/plain": [
              "LogisticRegression(C=1.0, class_weight=None, dual=False, fit_intercept=True,\n",
              "                   intercept_scaling=1, l1_ratio=None, max_iter=100,\n",
              "                   multi_class='auto', n_jobs=None, penalty='l2',\n",
              "                   random_state=0, solver='lbfgs', tol=0.0001, verbose=0,\n",
              "                   warm_start=False)"
            ]
          },
          "metadata": {},
          "execution_count": 169
        }
      ]
    },
    {
      "cell_type": "code",
      "metadata": {
        "colab": {
          "base_uri": "https://localhost:8080/"
        },
        "id": "S1UTqf7P-FTt",
        "outputId": "786d5885-a368-4324-b94a-f3cdbd04d79e"
      },
      "source": [
        "y_pred= classifier.predict(AMZN_X_regression_previousday_test)  \n",
        "y_pred"
      ],
      "execution_count": 170,
      "outputs": [
        {
          "output_type": "execute_result",
          "data": {
            "text/plain": [
              "array([-1,  1, -1, -1,  1, -1, -1,  1, -1, -1, -1, -1, -1, -1, -1,  1, -1,\n",
              "       -1, -1,  1,  1, -1, -1, -1, -1,  1, -1, -1, -1, -1, -1, -1, -1, -1,\n",
              "       -1,  1,  1, -1,  1, -1, -1,  1, -1, -1, -1,  1,  1, -1, -1, -1, -1,\n",
              "       -1])"
            ]
          },
          "metadata": {},
          "execution_count": 170
        }
      ]
    },
    {
      "cell_type": "code",
      "metadata": {
        "colab": {
          "base_uri": "https://localhost:8080/"
        },
        "id": "5eNYKbLi-cEm",
        "outputId": "b0c1ffb5-aa62-4dfa-a61c-5f41be675f3b"
      },
      "source": [
        "from sklearn.metrics import confusion_matrix \n",
        "cm = confusion_matrix(AMZN_Y_Percentage_sameDay_test,y_pred)  \n",
        "cm"
      ],
      "execution_count": 171,
      "outputs": [
        {
          "output_type": "execute_result",
          "data": {
            "text/plain": [
              "array([[22,  0,  8],\n",
              "       [ 6,  0,  1],\n",
              "       [11,  0,  4]])"
            ]
          },
          "metadata": {},
          "execution_count": 171
        }
      ]
    },
    {
      "cell_type": "code",
      "metadata": {
        "colab": {
          "base_uri": "https://localhost:8080/"
        },
        "id": "dgd0JTlt-gqq",
        "outputId": "17f6bbaa-d4c9-43cd-8299-20bb9c54d2ba"
      },
      "source": [
        "from sklearn.metrics import classification_report\n",
        "# Classification Report\n",
        "matrix = classification_report(AMZN_Y_Percentage_sameDay_test,y_pred)\n",
        "print(\"Classification Report For Same day: \\n\",matrix)"
      ],
      "execution_count": 172,
      "outputs": [
        {
          "output_type": "stream",
          "name": "stdout",
          "text": [
            "Classification Report For Same day: \n",
            "               precision    recall  f1-score   support\n",
            "\n",
            "          -1       0.56      0.73      0.64        30\n",
            "           0       0.00      0.00      0.00         7\n",
            "           1       0.31      0.27      0.29        15\n",
            "\n",
            "    accuracy                           0.50        52\n",
            "   macro avg       0.29      0.33      0.31        52\n",
            "weighted avg       0.41      0.50      0.45        52\n",
            "\n"
          ]
        },
        {
          "output_type": "stream",
          "name": "stderr",
          "text": [
            "/usr/local/lib/python3.7/dist-packages/sklearn/metrics/_classification.py:1272: UndefinedMetricWarning: Precision and F-score are ill-defined and being set to 0.0 in labels with no predicted samples. Use `zero_division` parameter to control this behavior.\n",
            "  _warn_prf(average, modifier, msg_start, len(result))\n"
          ]
        }
      ]
    },
    {
      "cell_type": "markdown",
      "metadata": {
        "id": "q2Jmk8WxLcgR"
      },
      "source": [
        "# IBM"
      ]
    },
    {
      "cell_type": "code",
      "metadata": {
        "id": "moddEaBuLcgR"
      },
      "source": [
        "IBM_df=pd.read_csv('/content/IBM_modeling_data.csv')"
      ],
      "execution_count": 174,
      "outputs": []
    },
    {
      "cell_type": "code",
      "metadata": {
        "colab": {
          "base_uri": "https://localhost:8080/",
          "height": 326
        },
        "id": "uduPVrDt-2ti",
        "outputId": "01797872-4f4b-4996-b161-9b56c9b0edf6"
      },
      "source": [
        "IBM_df.head()"
      ],
      "execution_count": 176,
      "outputs": [
        {
          "output_type": "execute_result",
          "data": {
            "text/html": [
              "<div>\n",
              "<style scoped>\n",
              "    .dataframe tbody tr th:only-of-type {\n",
              "        vertical-align: middle;\n",
              "    }\n",
              "\n",
              "    .dataframe tbody tr th {\n",
              "        vertical-align: top;\n",
              "    }\n",
              "\n",
              "    .dataframe thead th {\n",
              "        text-align: right;\n",
              "    }\n",
              "</style>\n",
              "<table border=\"1\" class=\"dataframe\">\n",
              "  <thead>\n",
              "    <tr style=\"text-align: right;\">\n",
              "      <th></th>\n",
              "      <th>Unnamed: 0</th>\n",
              "      <th>Date</th>\n",
              "      <th>Close/Last</th>\n",
              "      <th>Volume</th>\n",
              "      <th>Open</th>\n",
              "      <th>High</th>\n",
              "      <th>Low</th>\n",
              "      <th>SameDay_Binary</th>\n",
              "      <th>PreviousDay_Binary</th>\n",
              "      <th>SameDay_Percentage</th>\n",
              "      <th>PreviousDay_Percentage</th>\n",
              "    </tr>\n",
              "  </thead>\n",
              "  <tbody>\n",
              "    <tr>\n",
              "      <th>0</th>\n",
              "      <td>0</td>\n",
              "      <td>2021-04-07</td>\n",
              "      <td>134.93</td>\n",
              "      <td>2976136.0</td>\n",
              "      <td>133.8400</td>\n",
              "      <td>134.9400</td>\n",
              "      <td>133.780</td>\n",
              "      <td>1</td>\n",
              "      <td>0</td>\n",
              "      <td>1</td>\n",
              "      <td>-1</td>\n",
              "    </tr>\n",
              "    <tr>\n",
              "      <th>1</th>\n",
              "      <td>1</td>\n",
              "      <td>2021-04-08</td>\n",
              "      <td>135.12</td>\n",
              "      <td>4087228.0</td>\n",
              "      <td>134.5700</td>\n",
              "      <td>135.6299</td>\n",
              "      <td>134.160</td>\n",
              "      <td>1</td>\n",
              "      <td>1</td>\n",
              "      <td>0</td>\n",
              "      <td>1</td>\n",
              "    </tr>\n",
              "    <tr>\n",
              "      <th>2</th>\n",
              "      <td>2</td>\n",
              "      <td>2021-04-09</td>\n",
              "      <td>135.73</td>\n",
              "      <td>3023916.0</td>\n",
              "      <td>134.8700</td>\n",
              "      <td>135.7400</td>\n",
              "      <td>134.710</td>\n",
              "      <td>1</td>\n",
              "      <td>1</td>\n",
              "      <td>1</td>\n",
              "      <td>1</td>\n",
              "    </tr>\n",
              "    <tr>\n",
              "      <th>3</th>\n",
              "      <td>3</td>\n",
              "      <td>2021-04-10</td>\n",
              "      <td>133.61</td>\n",
              "      <td>4811004.0</td>\n",
              "      <td>133.1625</td>\n",
              "      <td>134.0750</td>\n",
              "      <td>132.185</td>\n",
              "      <td>1</td>\n",
              "      <td>0</td>\n",
              "      <td>0</td>\n",
              "      <td>-1</td>\n",
              "    </tr>\n",
              "    <tr>\n",
              "      <th>4</th>\n",
              "      <td>4</td>\n",
              "      <td>2021-04-11</td>\n",
              "      <td>133.61</td>\n",
              "      <td>4811004.0</td>\n",
              "      <td>133.1625</td>\n",
              "      <td>134.0750</td>\n",
              "      <td>132.185</td>\n",
              "      <td>1</td>\n",
              "      <td>0</td>\n",
              "      <td>0</td>\n",
              "      <td>0</td>\n",
              "    </tr>\n",
              "  </tbody>\n",
              "</table>\n",
              "</div>"
            ],
            "text/plain": [
              "   Unnamed: 0        Date  ...  SameDay_Percentage  PreviousDay_Percentage\n",
              "0           0  2021-04-07  ...                   1                      -1\n",
              "1           1  2021-04-08  ...                   0                       1\n",
              "2           2  2021-04-09  ...                   1                       1\n",
              "3           3  2021-04-10  ...                   0                      -1\n",
              "4           4  2021-04-11  ...                   0                       0\n",
              "\n",
              "[5 rows x 11 columns]"
            ]
          },
          "metadata": {},
          "execution_count": 176
        }
      ]
    },
    {
      "cell_type": "code",
      "metadata": {
        "colab": {
          "base_uri": "https://localhost:8080/"
        },
        "id": "frxFP3ZY_SJK",
        "outputId": "c06c600a-e866-4dc0-caff-59212c0b3a3c"
      },
      "source": [
        "IBM_df.shape\n"
      ],
      "execution_count": 177,
      "outputs": [
        {
          "output_type": "execute_result",
          "data": {
            "text/plain": [
              "(172, 11)"
            ]
          },
          "metadata": {},
          "execution_count": 177
        }
      ]
    },
    {
      "cell_type": "code",
      "metadata": {
        "id": "1UsNDJEV-2pa"
      },
      "source": [
        "AMZN_df[\"day\"] = AAPL_df['Date'].map(lambda x: pd.to_datetime(x).day)\n",
        "AMZN_df[\"month\"] = AAPL_df['Date'].map(lambda x: pd.to_datetime(x).month)\n",
        "AMZN_df[\"year\"] = AAPL_df['Date'].map(lambda x: pd.to_datetime(x).year)"
      ],
      "execution_count": null,
      "outputs": []
    },
    {
      "cell_type": "code",
      "metadata": {
        "colab": {
          "base_uri": "https://localhost:8080/",
          "height": 326
        },
        "id": "JJ41in__-2kl",
        "outputId": "b58b8e24-b7da-4cd6-8bc9-dcc99340759e"
      },
      "source": [
        "IBM_df.head()"
      ],
      "execution_count": 178,
      "outputs": [
        {
          "output_type": "execute_result",
          "data": {
            "text/html": [
              "<div>\n",
              "<style scoped>\n",
              "    .dataframe tbody tr th:only-of-type {\n",
              "        vertical-align: middle;\n",
              "    }\n",
              "\n",
              "    .dataframe tbody tr th {\n",
              "        vertical-align: top;\n",
              "    }\n",
              "\n",
              "    .dataframe thead th {\n",
              "        text-align: right;\n",
              "    }\n",
              "</style>\n",
              "<table border=\"1\" class=\"dataframe\">\n",
              "  <thead>\n",
              "    <tr style=\"text-align: right;\">\n",
              "      <th></th>\n",
              "      <th>Unnamed: 0</th>\n",
              "      <th>Date</th>\n",
              "      <th>Close/Last</th>\n",
              "      <th>Volume</th>\n",
              "      <th>Open</th>\n",
              "      <th>High</th>\n",
              "      <th>Low</th>\n",
              "      <th>SameDay_Binary</th>\n",
              "      <th>PreviousDay_Binary</th>\n",
              "      <th>SameDay_Percentage</th>\n",
              "      <th>PreviousDay_Percentage</th>\n",
              "    </tr>\n",
              "  </thead>\n",
              "  <tbody>\n",
              "    <tr>\n",
              "      <th>0</th>\n",
              "      <td>0</td>\n",
              "      <td>2021-04-07</td>\n",
              "      <td>134.93</td>\n",
              "      <td>2976136.0</td>\n",
              "      <td>133.8400</td>\n",
              "      <td>134.9400</td>\n",
              "      <td>133.780</td>\n",
              "      <td>1</td>\n",
              "      <td>0</td>\n",
              "      <td>1</td>\n",
              "      <td>-1</td>\n",
              "    </tr>\n",
              "    <tr>\n",
              "      <th>1</th>\n",
              "      <td>1</td>\n",
              "      <td>2021-04-08</td>\n",
              "      <td>135.12</td>\n",
              "      <td>4087228.0</td>\n",
              "      <td>134.5700</td>\n",
              "      <td>135.6299</td>\n",
              "      <td>134.160</td>\n",
              "      <td>1</td>\n",
              "      <td>1</td>\n",
              "      <td>0</td>\n",
              "      <td>1</td>\n",
              "    </tr>\n",
              "    <tr>\n",
              "      <th>2</th>\n",
              "      <td>2</td>\n",
              "      <td>2021-04-09</td>\n",
              "      <td>135.73</td>\n",
              "      <td>3023916.0</td>\n",
              "      <td>134.8700</td>\n",
              "      <td>135.7400</td>\n",
              "      <td>134.710</td>\n",
              "      <td>1</td>\n",
              "      <td>1</td>\n",
              "      <td>1</td>\n",
              "      <td>1</td>\n",
              "    </tr>\n",
              "    <tr>\n",
              "      <th>3</th>\n",
              "      <td>3</td>\n",
              "      <td>2021-04-10</td>\n",
              "      <td>133.61</td>\n",
              "      <td>4811004.0</td>\n",
              "      <td>133.1625</td>\n",
              "      <td>134.0750</td>\n",
              "      <td>132.185</td>\n",
              "      <td>1</td>\n",
              "      <td>0</td>\n",
              "      <td>0</td>\n",
              "      <td>-1</td>\n",
              "    </tr>\n",
              "    <tr>\n",
              "      <th>4</th>\n",
              "      <td>4</td>\n",
              "      <td>2021-04-11</td>\n",
              "      <td>133.61</td>\n",
              "      <td>4811004.0</td>\n",
              "      <td>133.1625</td>\n",
              "      <td>134.0750</td>\n",
              "      <td>132.185</td>\n",
              "      <td>1</td>\n",
              "      <td>0</td>\n",
              "      <td>0</td>\n",
              "      <td>0</td>\n",
              "    </tr>\n",
              "  </tbody>\n",
              "</table>\n",
              "</div>"
            ],
            "text/plain": [
              "   Unnamed: 0        Date  ...  SameDay_Percentage  PreviousDay_Percentage\n",
              "0           0  2021-04-07  ...                   1                      -1\n",
              "1           1  2021-04-08  ...                   0                       1\n",
              "2           2  2021-04-09  ...                   1                       1\n",
              "3           3  2021-04-10  ...                   0                      -1\n",
              "4           4  2021-04-11  ...                   0                       0\n",
              "\n",
              "[5 rows x 11 columns]"
            ]
          },
          "metadata": {},
          "execution_count": 178
        }
      ]
    },
    {
      "cell_type": "code",
      "metadata": {
        "id": "z9mJvyCALcgR"
      },
      "source": [
        "IBM_X_classification=IBM_df['Date']\n",
        "IBM_X_regression=IBM_df.drop([\"Open\",\"Close/Last\",\"SameDay_Binary\",\"PreviousDay_Binary\",\"SameDay_Percentage\",\"PreviousDay_Percentage\",\"Date\"],axis =1 )\n",
        "\n",
        "IBM_Y_Binary_sameDay = IBM_df[\"SameDay_Binary\"]\n",
        "IBM_Y_Binary_previousDay = IBM_df[\"PreviousDay_Binary\"]\n",
        "IBM_Y_Percentage_sameDay = IBM_df[\"SameDay_Percentage\"]\n",
        "IBM_Y_Percentage_previousDay = IBM_df[\"PreviousDay_Percentage\"]"
      ],
      "execution_count": 181,
      "outputs": []
    },
    {
      "cell_type": "code",
      "metadata": {
        "id": "yGxVRuicDrje"
      },
      "source": [
        "#PCA"
      ],
      "execution_count": null,
      "outputs": []
    },
    {
      "cell_type": "code",
      "metadata": {
        "colab": {
          "base_uri": "https://localhost:8080/"
        },
        "id": "o6-36mW9BV6o",
        "outputId": "46e6bd05-87ba-4d49-ece0-b70e9c484dc8"
      },
      "source": [
        "from sklearn.preprocessing import MinMaxScaler\n",
        "from sklearn.preprocessing import StandardScaler\n",
        "scaler=StandardScaler()\n",
        "scaler.fit(AMZN_X_regression)\n",
        "scaler=StandardScaler()\n",
        "scaler.fit(AMZN_X_regression)\n",
        "scaled_data=scaler.transform(AMZN_X_regression)\n",
        "scaled_data"
      ],
      "execution_count": 182,
      "outputs": [
        {
          "output_type": "execute_result",
          "data": {
            "text/plain": [
              "array([[-1.72200985,  0.0141397 , -0.93650836, -1.15406566, -1.03465642,\n",
              "        -1.53779293],\n",
              "       [-1.70186938, -0.48836741, -0.76250172, -0.55870894, -0.91742262,\n",
              "        -1.53779293],\n",
              "       [-1.68172892,  0.95045042, -0.3651293 , -0.58571122, -0.80018882,\n",
              "        -1.53779293],\n",
              "       ...,\n",
              "       [ 1.68172892, -0.89542172,  0.1077189 ,  0.2082429 ,  0.84108433,\n",
              "         1.51648402],\n",
              "       [ 1.70186938, -1.14301046,  0.1102181 ,  0.32452691,  0.95831813,\n",
              "         1.51648402],\n",
              "       [ 1.72200985, -0.11072669, -0.1369942 , -0.15302147,  1.07555193,\n",
              "         1.51648402]])"
            ]
          },
          "metadata": {},
          "execution_count": 182
        }
      ]
    },
    {
      "cell_type": "code",
      "metadata": {
        "colab": {
          "base_uri": "https://localhost:8080/"
        },
        "id": "NgzJiGx6Bflt",
        "outputId": "0eae8422-daeb-4838-ef3b-cf09a6caf9c0"
      },
      "source": [
        "from sklearn.decomposition import PCA\n",
        "pca=PCA(n_components=2)\n",
        "pca.fit(scaled_data)\n",
        "x_pca=pca.transform(scaled_data)\n",
        "scaled_data"
      ],
      "execution_count": 184,
      "outputs": [
        {
          "output_type": "execute_result",
          "data": {
            "text/plain": [
              "array([[-1.72200985,  0.0141397 , -0.93650836, -1.15406566, -1.03465642,\n",
              "        -1.53779293],\n",
              "       [-1.70186938, -0.48836741, -0.76250172, -0.55870894, -0.91742262,\n",
              "        -1.53779293],\n",
              "       [-1.68172892,  0.95045042, -0.3651293 , -0.58571122, -0.80018882,\n",
              "        -1.53779293],\n",
              "       ...,\n",
              "       [ 1.68172892, -0.89542172,  0.1077189 ,  0.2082429 ,  0.84108433,\n",
              "         1.51648402],\n",
              "       [ 1.70186938, -1.14301046,  0.1102181 ,  0.32452691,  0.95831813,\n",
              "         1.51648402],\n",
              "       [ 1.72200985, -0.11072669, -0.1369942 , -0.15302147,  1.07555193,\n",
              "         1.51648402]])"
            ]
          },
          "metadata": {},
          "execution_count": 184
        }
      ]
    },
    {
      "cell_type": "code",
      "metadata": {
        "colab": {
          "base_uri": "https://localhost:8080/"
        },
        "id": "_0rXUQ8cCL7h",
        "outputId": "fc3682a3-d099-4c42-9082-c39942aa76dc"
      },
      "source": [
        "scaled_data.shape"
      ],
      "execution_count": 185,
      "outputs": [
        {
          "output_type": "execute_result",
          "data": {
            "text/plain": [
              "(172, 6)"
            ]
          },
          "metadata": {},
          "execution_count": 185
        }
      ]
    },
    {
      "cell_type": "code",
      "metadata": {
        "colab": {
          "base_uri": "https://localhost:8080/"
        },
        "id": "4MmC8BZqCL3b",
        "outputId": "eabe8c6a-5126-4b86-d8b2-c55a5472cb0b"
      },
      "source": [
        "x_pca.shape"
      ],
      "execution_count": 186,
      "outputs": [
        {
          "output_type": "execute_result",
          "data": {
            "text/plain": [
              "(172, 2)"
            ]
          },
          "metadata": {},
          "execution_count": 186
        }
      ]
    },
    {
      "cell_type": "code",
      "metadata": {
        "id": "_WFIHMIGLcgS"
      },
      "source": [
        "IBM_X_classification_sameDay_train, IBM_X_classification_sameDay_test, IBM_Y_Binary_sameDay_train, IBM_Y_Binary_sameDay_test = train_test_split(IBM_X_classification,IBM_Y_Binary_sameDay, test_size=0.30, random_state=2)"
      ],
      "execution_count": 189,
      "outputs": []
    },
    {
      "cell_type": "code",
      "metadata": {
        "id": "LRxyerGsLcgS"
      },
      "source": [
        "IBM_X_classification_previousDay_train, IBM_X_classification_previousDay_test, IBM_Y_Binary_previousDay_train,IBM_Y_Binary_previousDay_test = train_test_split(IBM_X_classification, IBM_Y_Binary_previousDay, test_size=0.30, random_state=2)"
      ],
      "execution_count": 188,
      "outputs": []
    },
    {
      "cell_type": "code",
      "metadata": {
        "id": "UECdtBqnDdA0"
      },
      "source": [
        "#sameday regression\n"
      ],
      "execution_count": 187,
      "outputs": []
    },
    {
      "cell_type": "code",
      "metadata": {
        "id": "jWO2oQEqLcgT"
      },
      "source": [
        "IBM_X_regression_sameday_train, IBM_X_regression_sameday_test, IBM_Y_Percentage_sameDay_train, IBM_Y_Percentage_sameDay_test = train_test_split(IBM_X_regression, IBM_Y_Percentage_sameDay, test_size=0.30, random_state=2)"
      ],
      "execution_count": 190,
      "outputs": []
    },
    {
      "cell_type": "code",
      "metadata": {
        "id": "uQSUkbawGIgW"
      },
      "source": [
        ""
      ],
      "execution_count": null,
      "outputs": []
    },
    {
      "cell_type": "code",
      "metadata": {
        "colab": {
          "base_uri": "https://localhost:8080/"
        },
        "id": "XR3LgEgHFxAr",
        "outputId": "4e0126e8-0035-4c9c-da9c-7460d4bd5484"
      },
      "source": [
        "from sklearn.linear_model import LogisticRegression  \n",
        "classifier= LogisticRegression(random_state=0)  \n",
        "classifier.fit(IBM_X_regression_sameday_train,  IBM_Y_Percentage_sameDay_train)"
      ],
      "execution_count": 191,
      "outputs": [
        {
          "output_type": "execute_result",
          "data": {
            "text/plain": [
              "LogisticRegression(C=1.0, class_weight=None, dual=False, fit_intercept=True,\n",
              "                   intercept_scaling=1, l1_ratio=None, max_iter=100,\n",
              "                   multi_class='auto', n_jobs=None, penalty='l2',\n",
              "                   random_state=0, solver='lbfgs', tol=0.0001, verbose=0,\n",
              "                   warm_start=False)"
            ]
          },
          "metadata": {},
          "execution_count": 191
        }
      ]
    },
    {
      "cell_type": "code",
      "metadata": {
        "colab": {
          "base_uri": "https://localhost:8080/"
        },
        "id": "QwMspLGTF8uV",
        "outputId": "a4c59ca3-32e4-4237-9f78-dcacfc4a2461"
      },
      "source": [
        "y_pred= classifier.predict(IBM_X_regression_sameday_test)  \n",
        "y_pred"
      ],
      "execution_count": 192,
      "outputs": [
        {
          "output_type": "execute_result",
          "data": {
            "text/plain": [
              "array([0, 0, 0, 0, 0, 0, 0, 0, 0, 0, 0, 0, 0, 0, 0, 0, 0, 0, 0, 0, 0, 0,\n",
              "       0, 0, 0, 0, 0, 0, 0, 0, 0, 0, 0, 0, 0, 0, 0, 0, 0, 0, 0, 0, 0, 0,\n",
              "       0, 0, 0, 0, 0, 0, 0, 0])"
            ]
          },
          "metadata": {},
          "execution_count": 192
        }
      ]
    },
    {
      "cell_type": "code",
      "metadata": {
        "id": "ULam3YrZGNCA"
      },
      "source": [
        "#classification and confusion matrix of sameday"
      ],
      "execution_count": null,
      "outputs": []
    },
    {
      "cell_type": "code",
      "metadata": {
        "colab": {
          "base_uri": "https://localhost:8080/"
        },
        "id": "G1Bz9UGPGGyn",
        "outputId": "5a4910ff-9513-41ed-9d12-e1daf4a768ad"
      },
      "source": [
        "from sklearn.metrics import confusion_matrix \n",
        "cm = confusion_matrix(IBM_Y_Percentage_sameDay_test,y_pred)  \n",
        "cm"
      ],
      "execution_count": 193,
      "outputs": [
        {
          "output_type": "execute_result",
          "data": {
            "text/plain": [
              "array([[ 0, 11,  0],\n",
              "       [ 0, 30,  0],\n",
              "       [ 0, 11,  0]])"
            ]
          },
          "metadata": {},
          "execution_count": 193
        }
      ]
    },
    {
      "cell_type": "code",
      "metadata": {
        "colab": {
          "base_uri": "https://localhost:8080/"
        },
        "id": "L4k4gp5MGgdc",
        "outputId": "1ed33076-aa2f-4cf6-92fb-98faed96318b"
      },
      "source": [
        "from sklearn.metrics import classification_report\n",
        "# Classification Report\n",
        "matrix = classification_report(AMZN_Y_Percentage_sameDay_test,y_pred)\n",
        "print(\"Classification Report For Same day: \\n\",matrix)"
      ],
      "execution_count": 194,
      "outputs": [
        {
          "output_type": "stream",
          "name": "stdout",
          "text": [
            "Classification Report For Same day: \n",
            "               precision    recall  f1-score   support\n",
            "\n",
            "          -1       0.00      0.00      0.00        30\n",
            "           0       0.13      1.00      0.24         7\n",
            "           1       0.00      0.00      0.00        15\n",
            "\n",
            "    accuracy                           0.13        52\n",
            "   macro avg       0.04      0.33      0.08        52\n",
            "weighted avg       0.02      0.13      0.03        52\n",
            "\n"
          ]
        },
        {
          "output_type": "stream",
          "name": "stderr",
          "text": [
            "/usr/local/lib/python3.7/dist-packages/sklearn/metrics/_classification.py:1272: UndefinedMetricWarning: Precision and F-score are ill-defined and being set to 0.0 in labels with no predicted samples. Use `zero_division` parameter to control this behavior.\n",
            "  _warn_prf(average, modifier, msg_start, len(result))\n"
          ]
        }
      ]
    },
    {
      "cell_type": "code",
      "metadata": {
        "id": "UABu8JgnHDo4"
      },
      "source": [
        "#previous day regression"
      ],
      "execution_count": 195,
      "outputs": []
    },
    {
      "cell_type": "code",
      "metadata": {
        "id": "MXh9-TLQLcgT"
      },
      "source": [
        "IBM_X_regression_previousday_train, IBM_X_regression_previousday_test, IBM_Y_Percentage_previousDay_train, IBM_Y_Percentage_previousDay_test = train_test_split(IBM_X_regression, IBM_Y_Percentage_previousDay, test_size=0.30, random_state=2)"
      ],
      "execution_count": 196,
      "outputs": []
    },
    {
      "cell_type": "code",
      "metadata": {
        "colab": {
          "base_uri": "https://localhost:8080/"
        },
        "id": "_bzT1lz1Gfyn",
        "outputId": "ad22387b-1627-46c0-b4d6-07c1ce4b2114"
      },
      "source": [
        "from sklearn.linear_model import LogisticRegression  \n",
        "classifier= LogisticRegression(random_state=0)  \n",
        "classifier.fit(IBM_X_regression_previousday_train,  IBM_Y_Percentage_previousDay_train)"
      ],
      "execution_count": 197,
      "outputs": [
        {
          "output_type": "execute_result",
          "data": {
            "text/plain": [
              "LogisticRegression(C=1.0, class_weight=None, dual=False, fit_intercept=True,\n",
              "                   intercept_scaling=1, l1_ratio=None, max_iter=100,\n",
              "                   multi_class='auto', n_jobs=None, penalty='l2',\n",
              "                   random_state=0, solver='lbfgs', tol=0.0001, verbose=0,\n",
              "                   warm_start=False)"
            ]
          },
          "metadata": {},
          "execution_count": 197
        }
      ]
    },
    {
      "cell_type": "code",
      "metadata": {
        "colab": {
          "base_uri": "https://localhost:8080/"
        },
        "id": "0Cb9E0LpIjD5",
        "outputId": "2f095ee1-4cf3-4a07-b49f-939f0ff242a9"
      },
      "source": [
        "y_pred= classifier.predict(IBM_X_regression_previousday_test)  \n",
        "y_pred"
      ],
      "execution_count": 221,
      "outputs": [
        {
          "output_type": "execute_result",
          "data": {
            "text/plain": [
              "array([1, 1, 1, 1, 1, 1, 1, 1, 1, 1, 1, 1, 1, 1, 1, 1, 1, 1, 1, 1, 1, 1,\n",
              "       1, 1, 1, 1, 1, 1, 1, 1, 1, 1, 1, 1, 1, 1, 1, 1, 1, 1, 1, 1, 1, 1,\n",
              "       1, 1, 1, 1, 1, 1, 1, 1])"
            ]
          },
          "metadata": {},
          "execution_count": 221
        }
      ]
    },
    {
      "cell_type": "code",
      "metadata": {
        "id": "Dhj0JTFlJWLC"
      },
      "source": [
        "#confusion and Classificaon "
      ],
      "execution_count": 222,
      "outputs": []
    },
    {
      "cell_type": "code",
      "metadata": {
        "colab": {
          "base_uri": "https://localhost:8080/"
        },
        "id": "qPQbEL5lKHYs",
        "outputId": "286b1308-b179-443e-c55c-30912e740244"
      },
      "source": [
        "from sklearn.metrics import confusion_matrix \n",
        "cm = confusion_matrix(IBM_Y_Percentage_previousDay_test,y_pred)  \n",
        "cm"
      ],
      "execution_count": 223,
      "outputs": [
        {
          "output_type": "execute_result",
          "data": {
            "text/plain": [
              "array([[ 0,  0, 11],\n",
              "       [ 0,  0, 30],\n",
              "       [ 0,  0, 11]])"
            ]
          },
          "metadata": {},
          "execution_count": 223
        }
      ]
    },
    {
      "cell_type": "code",
      "metadata": {
        "colab": {
          "base_uri": "https://localhost:8080/"
        },
        "id": "MktdPSLrKIUG",
        "outputId": "a59c757a-d6d6-4e48-c315-582333e940f9"
      },
      "source": [
        "from sklearn.metrics import classification_report\n",
        "# Classification Report\n",
        "matrix = classification_report(AMZN_Y_Percentage_previousDay_test,y_pred)\n",
        "print(\"Classification Report For previous day: \\n\",matrix)"
      ],
      "execution_count": 224,
      "outputs": [
        {
          "output_type": "stream",
          "name": "stdout",
          "text": [
            "Classification Report For previous day: \n",
            "               precision    recall  f1-score   support\n",
            "\n",
            "          -1       0.00      0.00      0.00        26\n",
            "           0       0.00      0.00      0.00        13\n",
            "           1       0.25      1.00      0.40        13\n",
            "\n",
            "    accuracy                           0.25        52\n",
            "   macro avg       0.08      0.33      0.13        52\n",
            "weighted avg       0.06      0.25      0.10        52\n",
            "\n"
          ]
        },
        {
          "output_type": "stream",
          "name": "stderr",
          "text": [
            "/usr/local/lib/python3.7/dist-packages/sklearn/metrics/_classification.py:1272: UndefinedMetricWarning: Precision and F-score are ill-defined and being set to 0.0 in labels with no predicted samples. Use `zero_division` parameter to control this behavior.\n",
            "  _warn_prf(average, modifier, msg_start, len(result))\n"
          ]
        }
      ]
    },
    {
      "cell_type": "markdown",
      "metadata": {
        "id": "s8G1AliILcgT"
      },
      "source": [
        "# MSFT"
      ]
    },
    {
      "cell_type": "code",
      "metadata": {
        "id": "Rs9zTEf5LcgU"
      },
      "source": [
        "MSFT_df=pd.read_csv('/content/MSFT_modeling_data.csv')"
      ],
      "execution_count": 202,
      "outputs": []
    },
    {
      "cell_type": "code",
      "metadata": {
        "colab": {
          "base_uri": "https://localhost:8080/",
          "height": 326
        },
        "id": "eyJFwQ-eK2wj",
        "outputId": "77821e19-8b5f-4de0-e88e-51ff8b25483c"
      },
      "source": [
        "MSFT_df.head()"
      ],
      "execution_count": 204,
      "outputs": [
        {
          "output_type": "execute_result",
          "data": {
            "text/html": [
              "<div>\n",
              "<style scoped>\n",
              "    .dataframe tbody tr th:only-of-type {\n",
              "        vertical-align: middle;\n",
              "    }\n",
              "\n",
              "    .dataframe tbody tr th {\n",
              "        vertical-align: top;\n",
              "    }\n",
              "\n",
              "    .dataframe thead th {\n",
              "        text-align: right;\n",
              "    }\n",
              "</style>\n",
              "<table border=\"1\" class=\"dataframe\">\n",
              "  <thead>\n",
              "    <tr style=\"text-align: right;\">\n",
              "      <th></th>\n",
              "      <th>Unnamed: 0</th>\n",
              "      <th>Date</th>\n",
              "      <th>Close/Last</th>\n",
              "      <th>Volume</th>\n",
              "      <th>Open</th>\n",
              "      <th>High</th>\n",
              "      <th>Low</th>\n",
              "      <th>SameDay_Binary</th>\n",
              "      <th>PreviousDay_Binary</th>\n",
              "      <th>SameDay_Percentage</th>\n",
              "      <th>PreviousDay_Percentage</th>\n",
              "    </tr>\n",
              "  </thead>\n",
              "  <tbody>\n",
              "    <tr>\n",
              "      <th>0</th>\n",
              "      <td>0</td>\n",
              "      <td>2021-04-07</td>\n",
              "      <td>249.90</td>\n",
              "      <td>22719840.0</td>\n",
              "      <td>247.8100</td>\n",
              "      <td>250.930</td>\n",
              "      <td>247.19</td>\n",
              "      <td>1</td>\n",
              "      <td>0</td>\n",
              "      <td>1</td>\n",
              "      <td>-1</td>\n",
              "    </tr>\n",
              "    <tr>\n",
              "      <th>1</th>\n",
              "      <td>1</td>\n",
              "      <td>2021-04-08</td>\n",
              "      <td>253.25</td>\n",
              "      <td>23625200.0</td>\n",
              "      <td>252.7700</td>\n",
              "      <td>254.139</td>\n",
              "      <td>252.00</td>\n",
              "      <td>1</td>\n",
              "      <td>1</td>\n",
              "      <td>0</td>\n",
              "      <td>1</td>\n",
              "    </tr>\n",
              "    <tr>\n",
              "      <th>2</th>\n",
              "      <td>2</td>\n",
              "      <td>2021-04-09</td>\n",
              "      <td>255.85</td>\n",
              "      <td>24326830.0</td>\n",
              "      <td>252.8700</td>\n",
              "      <td>255.990</td>\n",
              "      <td>252.44</td>\n",
              "      <td>1</td>\n",
              "      <td>1</td>\n",
              "      <td>1</td>\n",
              "      <td>1</td>\n",
              "    </tr>\n",
              "    <tr>\n",
              "      <th>3</th>\n",
              "      <td>3</td>\n",
              "      <td>2021-04-10</td>\n",
              "      <td>255.75</td>\n",
              "      <td>25109805.0</td>\n",
              "      <td>256.0925</td>\n",
              "      <td>258.250</td>\n",
              "      <td>254.89</td>\n",
              "      <td>0</td>\n",
              "      <td>0</td>\n",
              "      <td>0</td>\n",
              "      <td>1</td>\n",
              "    </tr>\n",
              "    <tr>\n",
              "      <th>4</th>\n",
              "      <td>4</td>\n",
              "      <td>2021-04-11</td>\n",
              "      <td>255.75</td>\n",
              "      <td>25109805.0</td>\n",
              "      <td>256.0925</td>\n",
              "      <td>258.250</td>\n",
              "      <td>254.89</td>\n",
              "      <td>0</td>\n",
              "      <td>0</td>\n",
              "      <td>0</td>\n",
              "      <td>0</td>\n",
              "    </tr>\n",
              "  </tbody>\n",
              "</table>\n",
              "</div>"
            ],
            "text/plain": [
              "   Unnamed: 0        Date  ...  SameDay_Percentage  PreviousDay_Percentage\n",
              "0           0  2021-04-07  ...                   1                      -1\n",
              "1           1  2021-04-08  ...                   0                       1\n",
              "2           2  2021-04-09  ...                   1                       1\n",
              "3           3  2021-04-10  ...                   0                       1\n",
              "4           4  2021-04-11  ...                   0                       0\n",
              "\n",
              "[5 rows x 11 columns]"
            ]
          },
          "metadata": {},
          "execution_count": 204
        }
      ]
    },
    {
      "cell_type": "code",
      "metadata": {
        "colab": {
          "base_uri": "https://localhost:8080/"
        },
        "id": "mXxj674-LJOc",
        "outputId": "4060d8be-60fe-4aee-b044-623f3980152e"
      },
      "source": [
        "MSFT_df.shape"
      ],
      "execution_count": 212,
      "outputs": [
        {
          "output_type": "execute_result",
          "data": {
            "text/plain": [
              "(172, 11)"
            ]
          },
          "metadata": {},
          "execution_count": 212
        }
      ]
    },
    {
      "cell_type": "code",
      "metadata": {
        "id": "OJTJn9Q-QvJN"
      },
      "source": [
        ""
      ],
      "execution_count": null,
      "outputs": []
    },
    {
      "cell_type": "code",
      "metadata": {
        "id": "5VKA1kgcK2r-"
      },
      "source": [
        "MSFT_df[\"day\"] = AAPL_df['Date'].map(lambda x: pd.to_datetime(x).day)\n",
        "MSFT_df[\"month\"] = AAPL_df['Date'].map(lambda x: pd.to_datetime(x).month)\n",
        "MSFT_df[\"year\"] = AAPL_df['Date'].map(lambda x: pd.to_datetime(x).year)"
      ],
      "execution_count": 213,
      "outputs": []
    },
    {
      "cell_type": "code",
      "metadata": {
        "colab": {
          "base_uri": "https://localhost:8080/",
          "height": 326
        },
        "id": "L9PH3n-aK2p4",
        "outputId": "0f369ae1-f9b0-4086-c482-6b598412ed60"
      },
      "source": [
        "MSFT_df.head()"
      ],
      "execution_count": 242,
      "outputs": [
        {
          "output_type": "execute_result",
          "data": {
            "text/html": [
              "<div>\n",
              "<style scoped>\n",
              "    .dataframe tbody tr th:only-of-type {\n",
              "        vertical-align: middle;\n",
              "    }\n",
              "\n",
              "    .dataframe tbody tr th {\n",
              "        vertical-align: top;\n",
              "    }\n",
              "\n",
              "    .dataframe thead th {\n",
              "        text-align: right;\n",
              "    }\n",
              "</style>\n",
              "<table border=\"1\" class=\"dataframe\">\n",
              "  <thead>\n",
              "    <tr style=\"text-align: right;\">\n",
              "      <th></th>\n",
              "      <th>Unnamed: 0</th>\n",
              "      <th>Date</th>\n",
              "      <th>Close/Last</th>\n",
              "      <th>Volume</th>\n",
              "      <th>Open</th>\n",
              "      <th>High</th>\n",
              "      <th>Low</th>\n",
              "      <th>SameDay_Binary</th>\n",
              "      <th>PreviousDay_Binary</th>\n",
              "      <th>SameDay_Percentage</th>\n",
              "      <th>PreviousDay_Percentage</th>\n",
              "      <th>day</th>\n",
              "      <th>month</th>\n",
              "      <th>year</th>\n",
              "    </tr>\n",
              "  </thead>\n",
              "  <tbody>\n",
              "    <tr>\n",
              "      <th>0</th>\n",
              "      <td>0</td>\n",
              "      <td>2021-04-07</td>\n",
              "      <td>249.90</td>\n",
              "      <td>22719840.0</td>\n",
              "      <td>247.8100</td>\n",
              "      <td>250.930</td>\n",
              "      <td>247.19</td>\n",
              "      <td>1</td>\n",
              "      <td>0</td>\n",
              "      <td>1</td>\n",
              "      <td>-1</td>\n",
              "      <td>7</td>\n",
              "      <td>4</td>\n",
              "      <td>2021</td>\n",
              "    </tr>\n",
              "    <tr>\n",
              "      <th>1</th>\n",
              "      <td>1</td>\n",
              "      <td>2021-04-08</td>\n",
              "      <td>253.25</td>\n",
              "      <td>23625200.0</td>\n",
              "      <td>252.7700</td>\n",
              "      <td>254.139</td>\n",
              "      <td>252.00</td>\n",
              "      <td>1</td>\n",
              "      <td>1</td>\n",
              "      <td>0</td>\n",
              "      <td>1</td>\n",
              "      <td>8</td>\n",
              "      <td>4</td>\n",
              "      <td>2021</td>\n",
              "    </tr>\n",
              "    <tr>\n",
              "      <th>2</th>\n",
              "      <td>2</td>\n",
              "      <td>2021-04-09</td>\n",
              "      <td>255.85</td>\n",
              "      <td>24326830.0</td>\n",
              "      <td>252.8700</td>\n",
              "      <td>255.990</td>\n",
              "      <td>252.44</td>\n",
              "      <td>1</td>\n",
              "      <td>1</td>\n",
              "      <td>1</td>\n",
              "      <td>1</td>\n",
              "      <td>9</td>\n",
              "      <td>4</td>\n",
              "      <td>2021</td>\n",
              "    </tr>\n",
              "    <tr>\n",
              "      <th>3</th>\n",
              "      <td>3</td>\n",
              "      <td>2021-04-10</td>\n",
              "      <td>255.75</td>\n",
              "      <td>25109805.0</td>\n",
              "      <td>256.0925</td>\n",
              "      <td>258.250</td>\n",
              "      <td>254.89</td>\n",
              "      <td>0</td>\n",
              "      <td>0</td>\n",
              "      <td>0</td>\n",
              "      <td>1</td>\n",
              "      <td>10</td>\n",
              "      <td>4</td>\n",
              "      <td>2021</td>\n",
              "    </tr>\n",
              "    <tr>\n",
              "      <th>4</th>\n",
              "      <td>4</td>\n",
              "      <td>2021-04-11</td>\n",
              "      <td>255.75</td>\n",
              "      <td>25109805.0</td>\n",
              "      <td>256.0925</td>\n",
              "      <td>258.250</td>\n",
              "      <td>254.89</td>\n",
              "      <td>0</td>\n",
              "      <td>0</td>\n",
              "      <td>0</td>\n",
              "      <td>0</td>\n",
              "      <td>11</td>\n",
              "      <td>4</td>\n",
              "      <td>2021</td>\n",
              "    </tr>\n",
              "  </tbody>\n",
              "</table>\n",
              "</div>"
            ],
            "text/plain": [
              "   Unnamed: 0        Date  Close/Last  ...  day  month  year\n",
              "0           0  2021-04-07      249.90  ...    7      4  2021\n",
              "1           1  2021-04-08      253.25  ...    8      4  2021\n",
              "2           2  2021-04-09      255.85  ...    9      4  2021\n",
              "3           3  2021-04-10      255.75  ...   10      4  2021\n",
              "4           4  2021-04-11      255.75  ...   11      4  2021\n",
              "\n",
              "[5 rows x 14 columns]"
            ]
          },
          "metadata": {},
          "execution_count": 242
        }
      ]
    },
    {
      "cell_type": "code",
      "metadata": {
        "id": "DRhy5XMMLcgU"
      },
      "source": [
        "MSFT_X_classification=MSFT_df['Date']\n",
        "MSFT_X_regression=MSFT_df.drop([\"Open\",\"Close/Last\",\"SameDay_Binary\",\"PreviousDay_Binary\",\"SameDay_Percentage\",\"PreviousDay_Percentage\",\"Date\"],axis =1 )\n",
        "MSFT_Y_Binary_sameDay = MSFT_df[\"SameDay_Binary\"]\n",
        "MSFT_Y_Binary_previousDay = MSFT_df[\"PreviousDay_Binary\"]\n",
        "MSFT_Y_Percentage_sameDay = MSFT_df[\"SameDay_Percentage\"]\n",
        "MSFT_Y_Percentage_previousDay = MSFT_df[\"PreviousDay_Percentage\"]"
      ],
      "execution_count": 216,
      "outputs": []
    },
    {
      "cell_type": "code",
      "metadata": {
        "id": "_2nBoiLxMike"
      },
      "source": [
        "#PCA"
      ],
      "execution_count": 215,
      "outputs": []
    },
    {
      "cell_type": "code",
      "metadata": {
        "colab": {
          "base_uri": "https://localhost:8080/"
        },
        "id": "nx5jPUE9Ml2s",
        "outputId": "14c79035-6197-4897-9ab9-317607d227bb"
      },
      "source": [
        "from sklearn.preprocessing import MinMaxScaler\n",
        "from sklearn.preprocessing import StandardScaler\n",
        "scaler=StandardScaler()\n",
        "scaler.fit(MSFT_X_regression)\n",
        "scaler=StandardScaler()\n",
        "scaler.fit(MSFT_X_regression)\n",
        "scaled_data=scaler.transform(MSFT_X_regression)\n",
        "scaled_data"
      ],
      "execution_count": 217,
      "outputs": [
        {
          "output_type": "execute_result",
          "data": {
            "text/plain": [
              "array([[-1.72200985, -0.24851519, -1.01709237, ..., -1.03465642,\n",
              "        -1.53779293,  0.        ],\n",
              "       [-1.70186938, -0.07382938, -0.84269421, ..., -0.91742262,\n",
              "        -1.53779293,  0.        ],\n",
              "       [-1.68172892,  0.0615475 , -0.7420987 , ..., -0.80018882,\n",
              "        -1.53779293,  0.        ],\n",
              "       ...,\n",
              "       [ 1.68172892, -1.0425353 ,  1.69860601, ...,  0.84108433,\n",
              "         1.51648402,  0.        ],\n",
              "       [ 1.70186938, -1.73822615,  1.63882478, ...,  0.95831813,\n",
              "         1.51648402,  0.        ],\n",
              "       [ 1.72200985,  0.21261958, -0.61927544, ...,  1.07555193,\n",
              "         1.51648402,  0.        ]])"
            ]
          },
          "metadata": {},
          "execution_count": 217
        }
      ]
    },
    {
      "cell_type": "code",
      "metadata": {
        "id": "uw67HH5PRtxo"
      },
      "source": [
        ""
      ],
      "execution_count": null,
      "outputs": []
    },
    {
      "cell_type": "code",
      "metadata": {
        "colab": {
          "base_uri": "https://localhost:8080/"
        },
        "id": "hAQCCTUkMlz1",
        "outputId": "87b14857-332d-484c-e2f3-bd4a9a139db7"
      },
      "source": [
        "from sklearn.decomposition import PCA\n",
        "pca=PCA(n_components=2)\n",
        "pca.fit(scaled_data)\n",
        "x_pca=pca.transform(scaled_data)\n",
        "scaled_data"
      ],
      "execution_count": 218,
      "outputs": [
        {
          "output_type": "execute_result",
          "data": {
            "text/plain": [
              "array([[-1.72200985, -0.24851519, -1.01709237, ..., -1.03465642,\n",
              "        -1.53779293,  0.        ],\n",
              "       [-1.70186938, -0.07382938, -0.84269421, ..., -0.91742262,\n",
              "        -1.53779293,  0.        ],\n",
              "       [-1.68172892,  0.0615475 , -0.7420987 , ..., -0.80018882,\n",
              "        -1.53779293,  0.        ],\n",
              "       ...,\n",
              "       [ 1.68172892, -1.0425353 ,  1.69860601, ...,  0.84108433,\n",
              "         1.51648402,  0.        ],\n",
              "       [ 1.70186938, -1.73822615,  1.63882478, ...,  0.95831813,\n",
              "         1.51648402,  0.        ],\n",
              "       [ 1.72200985,  0.21261958, -0.61927544, ...,  1.07555193,\n",
              "         1.51648402,  0.        ]])"
            ]
          },
          "metadata": {},
          "execution_count": 218
        }
      ]
    },
    {
      "cell_type": "code",
      "metadata": {
        "colab": {
          "base_uri": "https://localhost:8080/"
        },
        "id": "sT4X5q9YMlfM",
        "outputId": "d35f9202-798b-4247-8f03-19903e65152b"
      },
      "source": [
        "scaled_data.shape"
      ],
      "execution_count": 219,
      "outputs": [
        {
          "output_type": "execute_result",
          "data": {
            "text/plain": [
              "(172, 7)"
            ]
          },
          "metadata": {},
          "execution_count": 219
        }
      ]
    },
    {
      "cell_type": "code",
      "metadata": {
        "colab": {
          "base_uri": "https://localhost:8080/"
        },
        "id": "mfARZiyoMlcA",
        "outputId": "ccb4fd95-752a-498f-f016-d99496b91426"
      },
      "source": [
        "x_pca.shape"
      ],
      "execution_count": 220,
      "outputs": [
        {
          "output_type": "execute_result",
          "data": {
            "text/plain": [
              "(172, 2)"
            ]
          },
          "metadata": {},
          "execution_count": 220
        }
      ]
    },
    {
      "cell_type": "code",
      "metadata": {
        "id": "T1hsfphmLcgU"
      },
      "source": [
        "MSFT_X_classification_sameDay_train, MSFT_X_classification_sameDay_test, MSFT_Y_Binary_sameDay_train, MSFT_Y_Binary_sameDay_test = train_test_split(MSFT_X_classification, MSFT_Y_Binary_sameDay, test_size=0.30, random_state=2)"
      ],
      "execution_count": 225,
      "outputs": []
    },
    {
      "cell_type": "code",
      "metadata": {
        "id": "g-9UESHyLcgU"
      },
      "source": [
        "MSFT_X_classification_previousDay_train, MSFT_X_classification_previousDay_test, MSFT_Y_Binary_previousDay_train,MSFT_Y_Binary_previousDay_test = train_test_split(MSFT_X_classification, MSFT_Y_Binary_previousDay, test_size=0.30, random_state=2)"
      ],
      "execution_count": 226,
      "outputs": []
    },
    {
      "cell_type": "code",
      "metadata": {
        "id": "vowbFNRuNdR1"
      },
      "source": [
        "#sameday regression"
      ],
      "execution_count": 227,
      "outputs": []
    },
    {
      "cell_type": "code",
      "metadata": {
        "id": "ArhC-myHLcgU"
      },
      "source": [
        "MSFT_X_regression_sameday_train,MSFT_X_regression_sameday_test, MSFT_Y_Percentage_sameDay_train, MSFT_Y_Percentage_sameDay_test = train_test_split(MSFT_X_regression, MSFT_Y_Percentage_sameDay, test_size=0.30, random_state=2)"
      ],
      "execution_count": 228,
      "outputs": []
    },
    {
      "cell_type": "code",
      "metadata": {
        "colab": {
          "base_uri": "https://localhost:8080/"
        },
        "id": "plHaIN15Nw2b",
        "outputId": "a7aff280-3f32-4527-f3f2-9e9391b04cfb"
      },
      "source": [
        "from sklearn.linear_model import LogisticRegression  \n",
        "classifier= LogisticRegression(random_state=0)  \n",
        "classifier.fit(MSFT_X_regression_sameday_train,  MSFT_Y_Percentage_sameDay_train)"
      ],
      "execution_count": 229,
      "outputs": [
        {
          "output_type": "execute_result",
          "data": {
            "text/plain": [
              "LogisticRegression(C=1.0, class_weight=None, dual=False, fit_intercept=True,\n",
              "                   intercept_scaling=1, l1_ratio=None, max_iter=100,\n",
              "                   multi_class='auto', n_jobs=None, penalty='l2',\n",
              "                   random_state=0, solver='lbfgs', tol=0.0001, verbose=0,\n",
              "                   warm_start=False)"
            ]
          },
          "metadata": {},
          "execution_count": 229
        }
      ]
    },
    {
      "cell_type": "code",
      "metadata": {
        "colab": {
          "base_uri": "https://localhost:8080/"
        },
        "id": "SvtElXqsOkrd",
        "outputId": "dc3d3a88-17b3-4ab3-ea58-5503c28e4b61"
      },
      "source": [
        "y_pred= classifier.predict(MSFT_X_regression_sameday_test)  \n",
        "y_pred"
      ],
      "execution_count": 230,
      "outputs": [
        {
          "output_type": "execute_result",
          "data": {
            "text/plain": [
              "array([0, 0, 0, 0, 0, 0, 0, 0, 0, 0, 0, 0, 0, 0, 0, 0, 0, 0, 0, 0, 0, 0,\n",
              "       0, 0, 0, 0, 0, 0, 0, 0, 0, 0, 0, 0, 0, 0, 0, 0, 0, 0, 0, 0, 0, 0,\n",
              "       0, 0, 0, 0, 0, 0, 0, 0])"
            ]
          },
          "metadata": {},
          "execution_count": 230
        }
      ]
    },
    {
      "cell_type": "code",
      "metadata": {
        "id": "ACWAL04dPKZO"
      },
      "source": [
        "#conclusion and classification report"
      ],
      "execution_count": 231,
      "outputs": []
    },
    {
      "cell_type": "code",
      "metadata": {
        "colab": {
          "base_uri": "https://localhost:8080/"
        },
        "id": "srxJznZ9O5wA",
        "outputId": "c229e519-ed41-40af-bdff-9dd00d122ee8"
      },
      "source": [
        "from sklearn.metrics import confusion_matrix \n",
        "cm = confusion_matrix(MSFT_Y_Percentage_sameDay_test,y_pred)  \n",
        "cm"
      ],
      "execution_count": 232,
      "outputs": [
        {
          "output_type": "execute_result",
          "data": {
            "text/plain": [
              "array([[ 0,  8,  0],\n",
              "       [ 0, 30,  0],\n",
              "       [ 0, 14,  0]])"
            ]
          },
          "metadata": {},
          "execution_count": 232
        }
      ]
    },
    {
      "cell_type": "code",
      "metadata": {
        "colab": {
          "base_uri": "https://localhost:8080/"
        },
        "id": "zvfWPxQjO6qg",
        "outputId": "e1bcd82b-5bf4-4abf-de66-2918a1f5b40c"
      },
      "source": [
        "from sklearn.metrics import classification_report\n",
        "# Classification Report\n",
        "matrix = classification_report(MSFT_Y_Percentage_sameDay_test,y_pred)\n",
        "print(\"Classification Report For same day: \\n\",matrix)"
      ],
      "execution_count": 233,
      "outputs": [
        {
          "output_type": "stream",
          "name": "stdout",
          "text": [
            "Classification Report For previous day: \n",
            "               precision    recall  f1-score   support\n",
            "\n",
            "          -1       0.00      0.00      0.00         8\n",
            "           0       0.58      1.00      0.73        30\n",
            "           1       0.00      0.00      0.00        14\n",
            "\n",
            "    accuracy                           0.58        52\n",
            "   macro avg       0.19      0.33      0.24        52\n",
            "weighted avg       0.33      0.58      0.42        52\n",
            "\n"
          ]
        },
        {
          "output_type": "stream",
          "name": "stderr",
          "text": [
            "/usr/local/lib/python3.7/dist-packages/sklearn/metrics/_classification.py:1272: UndefinedMetricWarning: Precision and F-score are ill-defined and being set to 0.0 in labels with no predicted samples. Use `zero_division` parameter to control this behavior.\n",
            "  _warn_prf(average, modifier, msg_start, len(result))\n"
          ]
        }
      ]
    },
    {
      "cell_type": "code",
      "metadata": {
        "id": "UcCQZjdNPD05"
      },
      "source": [
        "#previous day regression"
      ],
      "execution_count": 234,
      "outputs": []
    },
    {
      "cell_type": "code",
      "metadata": {
        "id": "8pFa5KMoLcgV"
      },
      "source": [
        "MSFT_X_regression_previousday_train, MSFT_X_regression_previousday_test, MSFT_Y_Percentage_previousDay_train, MSFT_Y_Percentage_previousDay_test = train_test_split(MSFT_X_regression, MSFT_Y_Percentage_previousDay, test_size=0.30, random_state=2)"
      ],
      "execution_count": 235,
      "outputs": []
    },
    {
      "cell_type": "code",
      "metadata": {
        "colab": {
          "base_uri": "https://localhost:8080/"
        },
        "id": "H1Ju_gr8PqM5",
        "outputId": "012668e7-0a1f-46ba-cd1b-4e7ef9fbde7b"
      },
      "source": [
        "from sklearn.linear_model import LogisticRegression  \n",
        "classifier= LogisticRegression(random_state=0)  \n",
        "classifier.fit(MSFT_X_regression_sameday_train,  MSFT_Y_Percentage_sameDay_train)"
      ],
      "execution_count": 236,
      "outputs": [
        {
          "output_type": "execute_result",
          "data": {
            "text/plain": [
              "LogisticRegression(C=1.0, class_weight=None, dual=False, fit_intercept=True,\n",
              "                   intercept_scaling=1, l1_ratio=None, max_iter=100,\n",
              "                   multi_class='auto', n_jobs=None, penalty='l2',\n",
              "                   random_state=0, solver='lbfgs', tol=0.0001, verbose=0,\n",
              "                   warm_start=False)"
            ]
          },
          "metadata": {},
          "execution_count": 236
        }
      ]
    },
    {
      "cell_type": "code",
      "metadata": {
        "id": "stku5RoQTZgf"
      },
      "source": [
        ""
      ],
      "execution_count": null,
      "outputs": []
    },
    {
      "cell_type": "code",
      "metadata": {
        "colab": {
          "base_uri": "https://localhost:8080/"
        },
        "id": "8ve1n09HPp-U",
        "outputId": "55acab89-8f64-4c07-8684-0b8d42e02ac8"
      },
      "source": [
        "y_pred= classifier.predict(MSFT_X_regression_sameday_test)  \n",
        "y_pred"
      ],
      "execution_count": 237,
      "outputs": [
        {
          "output_type": "execute_result",
          "data": {
            "text/plain": [
              "array([0, 0, 0, 0, 0, 0, 0, 0, 0, 0, 0, 0, 0, 0, 0, 0, 0, 0, 0, 0, 0, 0,\n",
              "       0, 0, 0, 0, 0, 0, 0, 0, 0, 0, 0, 0, 0, 0, 0, 0, 0, 0, 0, 0, 0, 0,\n",
              "       0, 0, 0, 0, 0, 0, 0, 0])"
            ]
          },
          "metadata": {},
          "execution_count": 237
        }
      ]
    },
    {
      "cell_type": "code",
      "metadata": {
        "id": "3mo0qCYwQCXM"
      },
      "source": [
        "#previous day accuracy and classification"
      ],
      "execution_count": 238,
      "outputs": []
    },
    {
      "cell_type": "code",
      "metadata": {
        "colab": {
          "base_uri": "https://localhost:8080/"
        },
        "id": "7X902hWeQJoN",
        "outputId": "f63ac57a-0697-44f9-b676-56599f7ee3de"
      },
      "source": [
        "from sklearn.metrics import confusion_matrix \n",
        "cm = confusion_matrix(MSFT_Y_Percentage_previousDay_test,y_pred)  \n",
        "cm"
      ],
      "execution_count": 239,
      "outputs": [
        {
          "output_type": "execute_result",
          "data": {
            "text/plain": [
              "array([[ 0, 18,  0],\n",
              "       [ 0, 15,  0],\n",
              "       [ 0, 19,  0]])"
            ]
          },
          "metadata": {},
          "execution_count": 239
        }
      ]
    },
    {
      "cell_type": "code",
      "metadata": {
        "id": "fwCfH5i9Twxl"
      },
      "source": [
        ""
      ],
      "execution_count": null,
      "outputs": []
    },
    {
      "cell_type": "code",
      "metadata": {
        "colab": {
          "base_uri": "https://localhost:8080/"
        },
        "id": "bziE4RNlQIcS",
        "outputId": "6d0b23b2-9918-4e8d-9c41-bc55560bd769"
      },
      "source": [
        "from sklearn.metrics import classification_report\n",
        "# Classification Report\n",
        "matrix = classification_report(MSFT_Y_Percentage_previousDay_test,y_pred)\n",
        "print(\"Classification Report For previous day: \\n\",matrix)"
      ],
      "execution_count": 240,
      "outputs": [
        {
          "output_type": "stream",
          "name": "stdout",
          "text": [
            "Classification Report For previous day: \n",
            "               precision    recall  f1-score   support\n",
            "\n",
            "          -1       0.00      0.00      0.00        18\n",
            "           0       0.29      1.00      0.45        15\n",
            "           1       0.00      0.00      0.00        19\n",
            "\n",
            "    accuracy                           0.29        52\n",
            "   macro avg       0.10      0.33      0.15        52\n",
            "weighted avg       0.08      0.29      0.13        52\n",
            "\n"
          ]
        },
        {
          "output_type": "stream",
          "name": "stderr",
          "text": [
            "/usr/local/lib/python3.7/dist-packages/sklearn/metrics/_classification.py:1272: UndefinedMetricWarning: Precision and F-score are ill-defined and being set to 0.0 in labels with no predicted samples. Use `zero_division` parameter to control this behavior.\n",
            "  _warn_prf(average, modifier, msg_start, len(result))\n"
          ]
        }
      ]
    },
    {
      "cell_type": "code",
      "metadata": {
        "id": "jW60VWgEQIZS"
      },
      "source": [
        ""
      ],
      "execution_count": null,
      "outputs": []
    },
    {
      "cell_type": "markdown",
      "metadata": {
        "id": "JwYf9yHBLcgV"
      },
      "source": [
        "# TSLA"
      ]
    },
    {
      "cell_type": "code",
      "metadata": {
        "id": "ipHVLp7ELcgV"
      },
      "source": [
        "TSLA_df=pd.read_csv('/content/TSLA_modeling_data.csv')"
      ],
      "execution_count": 241,
      "outputs": []
    },
    {
      "cell_type": "code",
      "metadata": {
        "id": "92PsgYacRIdD"
      },
      "source": [
        "TSLA_df.head()\n",
        "\n"
      ],
      "execution_count": null,
      "outputs": []
    },
    {
      "cell_type": "code",
      "metadata": {
        "colab": {
          "base_uri": "https://localhost:8080/"
        },
        "id": "bdJcchTiRZnn",
        "outputId": "ed3e1f7e-6f32-4dc5-91e8-a8e409291625"
      },
      "source": [
        "TSLA_df.shape\n"
      ],
      "execution_count": 244,
      "outputs": [
        {
          "output_type": "execute_result",
          "data": {
            "text/plain": [
              "(172, 11)"
            ]
          },
          "metadata": {},
          "execution_count": 244
        }
      ]
    },
    {
      "cell_type": "code",
      "metadata": {
        "id": "tEivjmk5RZjt"
      },
      "source": [
        "TSLA_df[\"day\"] = AAPL_df['Date'].map(lambda x: pd.to_datetime(x).day)\n",
        "TSLA_df[\"month\"] = AAPL_df['Date'].map(lambda x: pd.to_datetime(x).month)\n",
        "TSLA_df[\"year\"] = AAPL_df['Date'].map(lambda x: pd.to_datetime(x).year)\n"
      ],
      "execution_count": 245,
      "outputs": []
    },
    {
      "cell_type": "code",
      "metadata": {
        "colab": {
          "base_uri": "https://localhost:8080/",
          "height": 326
        },
        "id": "vRlOGitPRZhw",
        "outputId": "5cb098d3-a04f-4897-f96c-f919cfe8460c"
      },
      "source": [
        "TSLA_df.head()"
      ],
      "execution_count": 246,
      "outputs": [
        {
          "output_type": "execute_result",
          "data": {
            "text/html": [
              "<div>\n",
              "<style scoped>\n",
              "    .dataframe tbody tr th:only-of-type {\n",
              "        vertical-align: middle;\n",
              "    }\n",
              "\n",
              "    .dataframe tbody tr th {\n",
              "        vertical-align: top;\n",
              "    }\n",
              "\n",
              "    .dataframe thead th {\n",
              "        text-align: right;\n",
              "    }\n",
              "</style>\n",
              "<table border=\"1\" class=\"dataframe\">\n",
              "  <thead>\n",
              "    <tr style=\"text-align: right;\">\n",
              "      <th></th>\n",
              "      <th>Unnamed: 0</th>\n",
              "      <th>Date</th>\n",
              "      <th>Close/Last</th>\n",
              "      <th>Volume</th>\n",
              "      <th>Open</th>\n",
              "      <th>High</th>\n",
              "      <th>Low</th>\n",
              "      <th>SameDay_Binary</th>\n",
              "      <th>PreviousDay_Binary</th>\n",
              "      <th>SameDay_Percentage</th>\n",
              "      <th>PreviousDay_Percentage</th>\n",
              "      <th>day</th>\n",
              "      <th>month</th>\n",
              "      <th>year</th>\n",
              "    </tr>\n",
              "  </thead>\n",
              "  <tbody>\n",
              "    <tr>\n",
              "      <th>0</th>\n",
              "      <td>0</td>\n",
              "      <td>2021-04-07</td>\n",
              "      <td>670.970</td>\n",
              "      <td>26309430.0</td>\n",
              "      <td>687.00</td>\n",
              "      <td>691.3800</td>\n",
              "      <td>667.840</td>\n",
              "      <td>0</td>\n",
              "      <td>0</td>\n",
              "      <td>-1</td>\n",
              "      <td>-1</td>\n",
              "      <td>7</td>\n",
              "      <td>4</td>\n",
              "      <td>2021</td>\n",
              "    </tr>\n",
              "    <tr>\n",
              "      <th>1</th>\n",
              "      <td>1</td>\n",
              "      <td>2021-04-08</td>\n",
              "      <td>683.800</td>\n",
              "      <td>23924330.0</td>\n",
              "      <td>677.38</td>\n",
              "      <td>689.5499</td>\n",
              "      <td>671.645</td>\n",
              "      <td>1</td>\n",
              "      <td>1</td>\n",
              "      <td>1</td>\n",
              "      <td>0</td>\n",
              "      <td>8</td>\n",
              "      <td>4</td>\n",
              "      <td>2021</td>\n",
              "    </tr>\n",
              "    <tr>\n",
              "      <th>2</th>\n",
              "      <td>2</td>\n",
              "      <td>2021-04-09</td>\n",
              "      <td>677.020</td>\n",
              "      <td>21437090.0</td>\n",
              "      <td>677.77</td>\n",
              "      <td>680.9700</td>\n",
              "      <td>669.430</td>\n",
              "      <td>0</td>\n",
              "      <td>0</td>\n",
              "      <td>0</td>\n",
              "      <td>0</td>\n",
              "      <td>9</td>\n",
              "      <td>4</td>\n",
              "      <td>2021</td>\n",
              "    </tr>\n",
              "    <tr>\n",
              "      <th>3</th>\n",
              "      <td>3</td>\n",
              "      <td>2021-04-10</td>\n",
              "      <td>717.105</td>\n",
              "      <td>39076550.0</td>\n",
              "      <td>728.20</td>\n",
              "      <td>742.7950</td>\n",
              "      <td>705.060</td>\n",
              "      <td>0</td>\n",
              "      <td>1</td>\n",
              "      <td>-1</td>\n",
              "      <td>1</td>\n",
              "      <td>10</td>\n",
              "      <td>4</td>\n",
              "      <td>2021</td>\n",
              "    </tr>\n",
              "    <tr>\n",
              "      <th>4</th>\n",
              "      <td>4</td>\n",
              "      <td>2021-04-11</td>\n",
              "      <td>717.105</td>\n",
              "      <td>39076550.0</td>\n",
              "      <td>728.20</td>\n",
              "      <td>742.7950</td>\n",
              "      <td>705.060</td>\n",
              "      <td>0</td>\n",
              "      <td>0</td>\n",
              "      <td>-1</td>\n",
              "      <td>-1</td>\n",
              "      <td>11</td>\n",
              "      <td>4</td>\n",
              "      <td>2021</td>\n",
              "    </tr>\n",
              "  </tbody>\n",
              "</table>\n",
              "</div>"
            ],
            "text/plain": [
              "   Unnamed: 0        Date  Close/Last  ...  day  month  year\n",
              "0           0  2021-04-07     670.970  ...    7      4  2021\n",
              "1           1  2021-04-08     683.800  ...    8      4  2021\n",
              "2           2  2021-04-09     677.020  ...    9      4  2021\n",
              "3           3  2021-04-10     717.105  ...   10      4  2021\n",
              "4           4  2021-04-11     717.105  ...   11      4  2021\n",
              "\n",
              "[5 rows x 14 columns]"
            ]
          },
          "metadata": {},
          "execution_count": 246
        }
      ]
    },
    {
      "cell_type": "code",
      "metadata": {
        "id": "VslrrjCgLcgV"
      },
      "source": [
        "TSLA_X_classification=TSLA_df['Date']\n",
        "TSLA_X_regression=TSLA_df.drop([\"Open\",\"Close/Last\",\"SameDay_Binary\",\"PreviousDay_Binary\",\"SameDay_Percentage\",\"PreviousDay_Percentage\",\"Date\"],axis =1 )\n",
        "TSLA_Y_Binary_sameDay = TSLA_df[\"SameDay_Binary\"]\n",
        "TSLA_Y_Binary_previousDay = TSLA_df[\"PreviousDay_Binary\"]\n",
        "TSLA_Y_Percentage_sameDay = TSLA_df[\"SameDay_Percentage\"]\n",
        "TSLA_Y_Percentage_previousDay =TSLA_df[\"PreviousDay_Percentage\"]"
      ],
      "execution_count": 247,
      "outputs": []
    },
    {
      "cell_type": "code",
      "metadata": {
        "id": "XMC1T_taR34I"
      },
      "source": [
        "#pca"
      ],
      "execution_count": 248,
      "outputs": []
    },
    {
      "cell_type": "code",
      "metadata": {
        "colab": {
          "base_uri": "https://localhost:8080/"
        },
        "id": "pTX7M7d-R82u",
        "outputId": "ab4368f2-181b-4051-d31f-0b8c6e8d5a2e"
      },
      "source": [
        "from sklearn.preprocessing import MinMaxScaler\n",
        "from sklearn.preprocessing import StandardScaler\n",
        "scaler=StandardScaler()\n",
        "scaler.fit(MSFT_X_regression)\n",
        "scaler=StandardScaler()\n",
        "scaler.fit(MSFT_X_regression)\n",
        "scaled_data=scaler.transform(MSFT_X_regression)\n",
        "scaled_data"
      ],
      "execution_count": 249,
      "outputs": [
        {
          "output_type": "execute_result",
          "data": {
            "text/plain": [
              "array([[-1.72200985, -0.24851519, -1.01709237, ..., -1.03465642,\n",
              "        -1.53779293,  0.        ],\n",
              "       [-1.70186938, -0.07382938, -0.84269421, ..., -0.91742262,\n",
              "        -1.53779293,  0.        ],\n",
              "       [-1.68172892,  0.0615475 , -0.7420987 , ..., -0.80018882,\n",
              "        -1.53779293,  0.        ],\n",
              "       ...,\n",
              "       [ 1.68172892, -1.0425353 ,  1.69860601, ...,  0.84108433,\n",
              "         1.51648402,  0.        ],\n",
              "       [ 1.70186938, -1.73822615,  1.63882478, ...,  0.95831813,\n",
              "         1.51648402,  0.        ],\n",
              "       [ 1.72200985,  0.21261958, -0.61927544, ...,  1.07555193,\n",
              "         1.51648402,  0.        ]])"
            ]
          },
          "metadata": {},
          "execution_count": 249
        }
      ]
    },
    {
      "cell_type": "code",
      "metadata": {
        "colab": {
          "base_uri": "https://localhost:8080/"
        },
        "id": "TS8RAHlcR3va",
        "outputId": "1e8e4202-3eee-4a8b-9488-348abf652d41"
      },
      "source": [
        "from sklearn.decomposition import PCA\n",
        "pca=PCA(n_components=2)\n",
        "pca.fit(scaled_data)\n",
        "x_pca=pca.transform(scaled_data)\n",
        "scaled_data"
      ],
      "execution_count": 250,
      "outputs": [
        {
          "output_type": "execute_result",
          "data": {
            "text/plain": [
              "array([[-1.72200985, -0.24851519, -1.01709237, ..., -1.03465642,\n",
              "        -1.53779293,  0.        ],\n",
              "       [-1.70186938, -0.07382938, -0.84269421, ..., -0.91742262,\n",
              "        -1.53779293,  0.        ],\n",
              "       [-1.68172892,  0.0615475 , -0.7420987 , ..., -0.80018882,\n",
              "        -1.53779293,  0.        ],\n",
              "       ...,\n",
              "       [ 1.68172892, -1.0425353 ,  1.69860601, ...,  0.84108433,\n",
              "         1.51648402,  0.        ],\n",
              "       [ 1.70186938, -1.73822615,  1.63882478, ...,  0.95831813,\n",
              "         1.51648402,  0.        ],\n",
              "       [ 1.72200985,  0.21261958, -0.61927544, ...,  1.07555193,\n",
              "         1.51648402,  0.        ]])"
            ]
          },
          "metadata": {},
          "execution_count": 250
        }
      ]
    },
    {
      "cell_type": "code",
      "metadata": {
        "colab": {
          "base_uri": "https://localhost:8080/"
        },
        "id": "eTn-lve4R27N",
        "outputId": "31fa0495-0481-4f96-a5b8-386abdeb6252"
      },
      "source": [
        "scaled_data.shape"
      ],
      "execution_count": 251,
      "outputs": [
        {
          "output_type": "execute_result",
          "data": {
            "text/plain": [
              "(172, 7)"
            ]
          },
          "metadata": {},
          "execution_count": 251
        }
      ]
    },
    {
      "cell_type": "code",
      "metadata": {
        "colab": {
          "base_uri": "https://localhost:8080/"
        },
        "id": "B5qnfLkUSVZD",
        "outputId": "8c013062-6f36-40ed-81e5-ea811d802e39"
      },
      "source": [
        "x_pca.shape"
      ],
      "execution_count": 252,
      "outputs": [
        {
          "output_type": "execute_result",
          "data": {
            "text/plain": [
              "(172, 2)"
            ]
          },
          "metadata": {},
          "execution_count": 252
        }
      ]
    },
    {
      "cell_type": "code",
      "metadata": {
        "id": "5wpbgsh6LcgV"
      },
      "source": [
        "TSLA_X_classification_sameDay_train, TSLA_X_classification_sameDay_test, TSLA_Y_Binary_sameDay_train, TSLA_Y_Binary_sameDay_test = train_test_split(TSLA_X_classification, TSLA_Y_Binary_sameDay, test_size=0.30, random_state=2)"
      ],
      "execution_count": 253,
      "outputs": []
    },
    {
      "cell_type": "code",
      "metadata": {
        "id": "b6gr1QcJLcgW"
      },
      "source": [
        "TSLA_X_classification_previousDay_train, TSLA_X_classification_previousDay_test, TSLA_Y_Binary_previousDay_train,TSLA_Y_Binary_previousDay_test = train_test_split(TSLA_X_classification, TSLA_Y_Binary_previousDay, test_size=0.30, random_state=2)"
      ],
      "execution_count": 254,
      "outputs": []
    },
    {
      "cell_type": "code",
      "metadata": {
        "id": "y0s720uYSoBC"
      },
      "source": [
        "#same day regression"
      ],
      "execution_count": 255,
      "outputs": []
    },
    {
      "cell_type": "code",
      "metadata": {
        "id": "vi3UQBw-TL70"
      },
      "source": [
        "TSLA_X_regression_sameday_train, TSLA_X_regression_sameday_test, TSLA_Y_Percentage_sameDay_train, TSLA_Y_Percentage_sameDay_test = train_test_split(TSLA_X_regression, TSLA_Y_Percentage_sameDay, test_size=0.30, random_state=2)"
      ],
      "execution_count": 257,
      "outputs": []
    },
    {
      "cell_type": "code",
      "metadata": {
        "colab": {
          "base_uri": "https://localhost:8080/"
        },
        "id": "zIEgz2KJTlsA",
        "outputId": "a5aaf697-8e09-4a98-9ecb-fb45ef650ea9"
      },
      "source": [
        "from sklearn.linear_model import LogisticRegression  \n",
        "classifier= LogisticRegression(random_state=0)  \n",
        "classifier.fit(TSLA_X_regression_sameday_train, TSLA_Y_Percentage_sameDay_train)\n",
        "y_pred= classifier.predict(TSLA_X_regression_sameday_test)  \n",
        "y_pred"
      ],
      "execution_count": 259,
      "outputs": [
        {
          "output_type": "execute_result",
          "data": {
            "text/plain": [
              "array([-1, -1, -1, -1, -1, -1, -1, -1, -1, -1, -1, -1, -1, -1, -1, -1, -1,\n",
              "       -1, -1, -1, -1, -1, -1, -1, -1, -1, -1, -1, -1, -1, -1, -1, -1, -1,\n",
              "       -1, -1, -1, -1, -1, -1, -1, -1, -1, -1, -1, -1, -1, -1, -1, -1, -1,\n",
              "       -1])"
            ]
          },
          "metadata": {},
          "execution_count": 259
        }
      ]
    },
    {
      "cell_type": "code",
      "metadata": {
        "id": "CSk6v_1sSrl_"
      },
      "source": [
        "#Classification and confusion report"
      ],
      "execution_count": 260,
      "outputs": []
    },
    {
      "cell_type": "code",
      "metadata": {
        "colab": {
          "base_uri": "https://localhost:8080/"
        },
        "id": "hg8A85j9LcgW",
        "outputId": "fe1f8b91-9cf2-4f1e-c8a9-5ca6d4ce3ddc"
      },
      "source": [
        "from sklearn.metrics import confusion_matrix \n",
        "cm = confusion_matrix(TSLA_Y_Percentage_sameDay_test,y_pred)  \n",
        "cm\n"
      ],
      "execution_count": 261,
      "outputs": [
        {
          "output_type": "execute_result",
          "data": {
            "text/plain": [
              "array([[28,  0,  0],\n",
              "       [ 9,  0,  0],\n",
              "       [15,  0,  0]])"
            ]
          },
          "metadata": {},
          "execution_count": 261
        }
      ]
    },
    {
      "cell_type": "code",
      "metadata": {
        "colab": {
          "base_uri": "https://localhost:8080/"
        },
        "id": "FqTaJ8mST9dN",
        "outputId": "4a259197-4a92-4fbd-9cec-bb0fc11de645"
      },
      "source": [
        "from sklearn.metrics import classification_report\n",
        "# Classification Report\n",
        "matrix = classification_report(TSLA_Y_Percentage_sameDay_test,y_pred)\n",
        "print(\"Classification Report For same day: \\n\",matrix)"
      ],
      "execution_count": 264,
      "outputs": [
        {
          "output_type": "stream",
          "name": "stdout",
          "text": [
            "Classification Report For same day: \n",
            "               precision    recall  f1-score   support\n",
            "\n",
            "          -1       0.54      1.00      0.70        28\n",
            "           0       0.00      0.00      0.00         9\n",
            "           1       0.00      0.00      0.00        15\n",
            "\n",
            "    accuracy                           0.54        52\n",
            "   macro avg       0.18      0.33      0.23        52\n",
            "weighted avg       0.29      0.54      0.38        52\n",
            "\n"
          ]
        },
        {
          "output_type": "stream",
          "name": "stderr",
          "text": [
            "/usr/local/lib/python3.7/dist-packages/sklearn/metrics/_classification.py:1272: UndefinedMetricWarning: Precision and F-score are ill-defined and being set to 0.0 in labels with no predicted samples. Use `zero_division` parameter to control this behavior.\n",
            "  _warn_prf(average, modifier, msg_start, len(result))\n"
          ]
        }
      ]
    },
    {
      "cell_type": "code",
      "metadata": {
        "id": "AySYdbRoLcgW"
      },
      "source": [
        "TSLA_X_regression_previousday_train, TSLA_X_regression_previousday_test, TSLA_Y_Percentage_previousDay_train, TSLA_Y_Percentage_previousDay_test = train_test_split(TSLA_X_regression, TSLA_Y_Percentage_previousDay, test_size=0.30, random_state=2)"
      ],
      "execution_count": 263,
      "outputs": []
    },
    {
      "cell_type": "code",
      "metadata": {
        "id": "z6m33IHALcgW"
      },
      "source": [
        "#previous day regression"
      ],
      "execution_count": 265,
      "outputs": []
    },
    {
      "cell_type": "code",
      "metadata": {
        "colab": {
          "base_uri": "https://localhost:8080/"
        },
        "id": "aY8kOPWeUHQO",
        "outputId": "8b267036-d2b7-41a9-ae9a-e3ccfae4d8cf"
      },
      "source": [
        "from sklearn.linear_model import LogisticRegression  \n",
        "classifier= LogisticRegression(random_state=0)  \n",
        "classifier.fit(TSLA_X_regression_sameday_train,  TSLA_Y_Percentage_sameDay_train)\n",
        "y_pred= classifier.predict(TSLA_X_regression_sameday_test)  \n",
        "y_pred"
      ],
      "execution_count": 266,
      "outputs": [
        {
          "output_type": "execute_result",
          "data": {
            "text/plain": [
              "array([-1, -1, -1, -1, -1, -1, -1, -1, -1, -1, -1, -1, -1, -1, -1, -1, -1,\n",
              "       -1, -1, -1, -1, -1, -1, -1, -1, -1, -1, -1, -1, -1, -1, -1, -1, -1,\n",
              "       -1, -1, -1, -1, -1, -1, -1, -1, -1, -1, -1, -1, -1, -1, -1, -1, -1,\n",
              "       -1])"
            ]
          },
          "metadata": {},
          "execution_count": 266
        }
      ]
    },
    {
      "cell_type": "code",
      "metadata": {
        "id": "i1fPn9HqTBg6"
      },
      "source": [
        "#Classification and confusion report"
      ],
      "execution_count": 267,
      "outputs": []
    },
    {
      "cell_type": "code",
      "metadata": {
        "colab": {
          "base_uri": "https://localhost:8080/"
        },
        "id": "jwSdD5jRUAEV",
        "outputId": "5b3d9f1f-da12-48c4-bfa7-66ab9779bbe0"
      },
      "source": [
        "from sklearn.metrics import confusion_matrix \n",
        "cm = confusion_matrix(TSLA_Y_Percentage_previousDay_test,y_pred)  \n",
        "cm\n"
      ],
      "execution_count": 268,
      "outputs": [
        {
          "output_type": "execute_result",
          "data": {
            "text/plain": [
              "array([[18,  0,  0],\n",
              "       [ 8,  0,  0],\n",
              "       [26,  0,  0]])"
            ]
          },
          "metadata": {},
          "execution_count": 268
        }
      ]
    },
    {
      "cell_type": "code",
      "metadata": {
        "colab": {
          "base_uri": "https://localhost:8080/"
        },
        "id": "YuKeLUw6T_81",
        "outputId": "5def7de2-b041-4e19-eb31-439db0fd38e9"
      },
      "source": [
        "from sklearn.metrics import classification_report\n",
        "# Classification Report\n",
        "matrix = classification_report(TSLA_Y_Percentage_previousDay_test,y_pred)\n",
        "print(\"Classification Report For previous day: \\n\",matrix)"
      ],
      "execution_count": 269,
      "outputs": [
        {
          "output_type": "stream",
          "name": "stdout",
          "text": [
            "Classification Report For previous day: \n",
            "               precision    recall  f1-score   support\n",
            "\n",
            "          -1       0.35      1.00      0.51        18\n",
            "           0       0.00      0.00      0.00         8\n",
            "           1       0.00      0.00      0.00        26\n",
            "\n",
            "    accuracy                           0.35        52\n",
            "   macro avg       0.12      0.33      0.17        52\n",
            "weighted avg       0.12      0.35      0.18        52\n",
            "\n"
          ]
        },
        {
          "output_type": "stream",
          "name": "stderr",
          "text": [
            "/usr/local/lib/python3.7/dist-packages/sklearn/metrics/_classification.py:1272: UndefinedMetricWarning: Precision and F-score are ill-defined and being set to 0.0 in labels with no predicted samples. Use `zero_division` parameter to control this behavior.\n",
            "  _warn_prf(average, modifier, msg_start, len(result))\n"
          ]
        }
      ]
    }
  ]
}