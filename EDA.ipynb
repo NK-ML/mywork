{
  "nbformat": 4,
  "nbformat_minor": 0,
  "metadata": {
    "colab": {
      "name": "EDA.ipynb",
      "provenance": []
    },
    "kernelspec": {
      "name": "python3",
      "display_name": "Python 3"
    },
    "language_info": {
      "name": "python"
    }
  },
  "cells": [
    {
      "cell_type": "code",
      "metadata": {
        "id": "A1GzJbKG2MOk"
      },
      "source": [
        "import pandas as pd\n",
        "import numpy as np\n",
        "import matplotlib.pyplot as plt\n",
        "import seaborn as sns"
      ],
      "execution_count": null,
      "outputs": []
    },
    {
      "cell_type": "code",
      "metadata": {
        "id": "4OvjZ9nV5C8Q"
      },
      "source": [
        "data=pd.read_csv('/content/HistoricalData_1632805545670.csv')"
      ],
      "execution_count": null,
      "outputs": []
    },
    {
      "cell_type": "code",
      "metadata": {
        "colab": {
          "base_uri": "https://localhost:8080/",
          "height": 204
        },
        "id": "edp8FSgk5C_Q",
        "outputId": "46e61340-ca42-43c0-e691-73d2e2b01aef"
      },
      "source": [
        "data.head()"
      ],
      "execution_count": null,
      "outputs": [
        {
          "output_type": "execute_result",
          "data": {
            "text/html": [
              "<div>\n",
              "<style scoped>\n",
              "    .dataframe tbody tr th:only-of-type {\n",
              "        vertical-align: middle;\n",
              "    }\n",
              "\n",
              "    .dataframe tbody tr th {\n",
              "        vertical-align: top;\n",
              "    }\n",
              "\n",
              "    .dataframe thead th {\n",
              "        text-align: right;\n",
              "    }\n",
              "</style>\n",
              "<table border=\"1\" class=\"dataframe\">\n",
              "  <thead>\n",
              "    <tr style=\"text-align: right;\">\n",
              "      <th></th>\n",
              "      <th>Date</th>\n",
              "      <th>Close/Last</th>\n",
              "      <th>Volume</th>\n",
              "      <th>Open</th>\n",
              "      <th>High</th>\n",
              "      <th>Low</th>\n",
              "    </tr>\n",
              "  </thead>\n",
              "  <tbody>\n",
              "    <tr>\n",
              "      <th>0</th>\n",
              "      <td>09/27/2021</td>\n",
              "      <td>$791.36</td>\n",
              "      <td>28070660</td>\n",
              "      <td>$773.12</td>\n",
              "      <td>$799</td>\n",
              "      <td>$769.31</td>\n",
              "    </tr>\n",
              "    <tr>\n",
              "      <th>1</th>\n",
              "      <td>09/24/2021</td>\n",
              "      <td>$774.39</td>\n",
              "      <td>21373020</td>\n",
              "      <td>$745.89</td>\n",
              "      <td>$774.8</td>\n",
              "      <td>$744.56</td>\n",
              "    </tr>\n",
              "    <tr>\n",
              "      <th>2</th>\n",
              "      <td>09/23/2021</td>\n",
              "      <td>$753.64</td>\n",
              "      <td>11947530</td>\n",
              "      <td>$755</td>\n",
              "      <td>$758.2</td>\n",
              "      <td>$747.92</td>\n",
              "    </tr>\n",
              "    <tr>\n",
              "      <th>3</th>\n",
              "      <td>09/22/2021</td>\n",
              "      <td>$751.94</td>\n",
              "      <td>15126270</td>\n",
              "      <td>$743.5263</td>\n",
              "      <td>$753.6699</td>\n",
              "      <td>$739.12</td>\n",
              "    </tr>\n",
              "    <tr>\n",
              "      <th>4</th>\n",
              "      <td>09/21/2021</td>\n",
              "      <td>$739.38</td>\n",
              "      <td>16330720</td>\n",
              "      <td>$734.79</td>\n",
              "      <td>$744.7399</td>\n",
              "      <td>$730.44</td>\n",
              "    </tr>\n",
              "  </tbody>\n",
              "</table>\n",
              "</div>"
            ],
            "text/plain": [
              "         Date Close/Last    Volume       Open       High      Low\n",
              "0  09/27/2021    $791.36  28070660    $773.12       $799  $769.31\n",
              "1  09/24/2021    $774.39  21373020    $745.89     $774.8  $744.56\n",
              "2  09/23/2021    $753.64  11947530       $755     $758.2  $747.92\n",
              "3  09/22/2021    $751.94  15126270  $743.5263  $753.6699  $739.12\n",
              "4  09/21/2021    $739.38  16330720    $734.79  $744.7399  $730.44"
            ]
          },
          "metadata": {},
          "execution_count": 4
        }
      ]
    },
    {
      "cell_type": "code",
      "metadata": {
        "colab": {
          "base_uri": "https://localhost:8080/"
        },
        "id": "u13VBQ7h7n4Z",
        "outputId": "1d002deb-da27-4c2d-8c23-8ebbbaba93d1"
      },
      "source": [
        "data.columns\n"
      ],
      "execution_count": null,
      "outputs": [
        {
          "output_type": "execute_result",
          "data": {
            "text/plain": [
              "Index(['Date', 'Close/Last', 'Volume', 'Open', 'High', 'Low'], dtype='object')"
            ]
          },
          "metadata": {},
          "execution_count": 5
        }
      ]
    },
    {
      "cell_type": "code",
      "metadata": {
        "colab": {
          "base_uri": "https://localhost:8080/"
        },
        "id": "FHYo-1WN8CxN",
        "outputId": "2ebc7afe-712a-4f8d-a3f3-e31feff8c405"
      },
      "source": [
        "data.nunique(\n",
        "    \n",
        ")"
      ],
      "execution_count": null,
      "outputs": [
        {
          "output_type": "execute_result",
          "data": {
            "text/plain": [
              "Date          127\n",
              "Close/Last    126\n",
              "Volume        127\n",
              "Open          127\n",
              "High          127\n",
              "Low           127\n",
              "dtype: int64"
            ]
          },
          "metadata": {},
          "execution_count": 6
        }
      ]
    },
    {
      "cell_type": "code",
      "metadata": {
        "colab": {
          "base_uri": "https://localhost:8080/",
          "height": 204
        },
        "id": "oOKimo0g8hkZ",
        "outputId": "22d513e2-a109-4b7a-e55f-fae2eb0d9bbf"
      },
      "source": [
        "data.tail()"
      ],
      "execution_count": null,
      "outputs": [
        {
          "output_type": "execute_result",
          "data": {
            "text/html": [
              "<div>\n",
              "<style scoped>\n",
              "    .dataframe tbody tr th:only-of-type {\n",
              "        vertical-align: middle;\n",
              "    }\n",
              "\n",
              "    .dataframe tbody tr th {\n",
              "        vertical-align: top;\n",
              "    }\n",
              "\n",
              "    .dataframe thead th {\n",
              "        text-align: right;\n",
              "    }\n",
              "</style>\n",
              "<table border=\"1\" class=\"dataframe\">\n",
              "  <thead>\n",
              "    <tr style=\"text-align: right;\">\n",
              "      <th></th>\n",
              "      <th>Date</th>\n",
              "      <th>Close/Last</th>\n",
              "      <th>Volume</th>\n",
              "      <th>Open</th>\n",
              "      <th>High</th>\n",
              "      <th>Low</th>\n",
              "    </tr>\n",
              "  </thead>\n",
              "  <tbody>\n",
              "    <tr>\n",
              "      <th>122</th>\n",
              "      <td>04/05/2021</td>\n",
              "      <td>$691.05</td>\n",
              "      <td>41842770</td>\n",
              "      <td>$707.71</td>\n",
              "      <td>$708.16</td>\n",
              "      <td>$684.7</td>\n",
              "    </tr>\n",
              "    <tr>\n",
              "      <th>123</th>\n",
              "      <td>04/01/2021</td>\n",
              "      <td>$661.75</td>\n",
              "      <td>35298380</td>\n",
              "      <td>$688.37</td>\n",
              "      <td>$692.4203</td>\n",
              "      <td>$659.42</td>\n",
              "    </tr>\n",
              "    <tr>\n",
              "      <th>124</th>\n",
              "      <td>03/31/2021</td>\n",
              "      <td>$667.93</td>\n",
              "      <td>33337290</td>\n",
              "      <td>$646.62</td>\n",
              "      <td>$672</td>\n",
              "      <td>$641.11</td>\n",
              "    </tr>\n",
              "    <tr>\n",
              "      <th>125</th>\n",
              "      <td>03/30/2021</td>\n",
              "      <td>$635.62</td>\n",
              "      <td>39432360</td>\n",
              "      <td>$601.75</td>\n",
              "      <td>$637.66</td>\n",
              "      <td>$591.01</td>\n",
              "    </tr>\n",
              "    <tr>\n",
              "      <th>126</th>\n",
              "      <td>03/29/2021</td>\n",
              "      <td>$611.29</td>\n",
              "      <td>28636990</td>\n",
              "      <td>$615.64</td>\n",
              "      <td>$616.48</td>\n",
              "      <td>$596.02</td>\n",
              "    </tr>\n",
              "  </tbody>\n",
              "</table>\n",
              "</div>"
            ],
            "text/plain": [
              "           Date Close/Last    Volume     Open       High      Low\n",
              "122  04/05/2021    $691.05  41842770  $707.71    $708.16   $684.7\n",
              "123  04/01/2021    $661.75  35298380  $688.37  $692.4203  $659.42\n",
              "124  03/31/2021    $667.93  33337290  $646.62       $672  $641.11\n",
              "125  03/30/2021    $635.62  39432360  $601.75    $637.66  $591.01\n",
              "126  03/29/2021    $611.29  28636990  $615.64    $616.48  $596.02"
            ]
          },
          "metadata": {},
          "execution_count": 7
        }
      ]
    },
    {
      "cell_type": "code",
      "metadata": {
        "id": "j6x9Fi6D8zcs",
        "colab": {
          "base_uri": "https://localhost:8080/"
        },
        "outputId": "d271eaf8-b197-4a6c-90e4-56de006469ad"
      },
      "source": [
        "data.isnull().sum()"
      ],
      "execution_count": null,
      "outputs": [
        {
          "output_type": "execute_result",
          "data": {
            "text/plain": [
              "Date          0\n",
              "Close/Last    0\n",
              "Volume        0\n",
              "Open          0\n",
              "High          0\n",
              "Low           0\n",
              "dtype: int64"
            ]
          },
          "metadata": {},
          "execution_count": 8
        }
      ]
    },
    {
      "cell_type": "code",
      "metadata": {
        "id": "Tvpmfs1U8hnP",
        "colab": {
          "base_uri": "https://localhost:8080/"
        },
        "outputId": "e4649a06-48b9-4d32-fbaf-356d6c4cc1ef"
      },
      "source": [
        "data.shape\n"
      ],
      "execution_count": null,
      "outputs": [
        {
          "output_type": "execute_result",
          "data": {
            "text/plain": [
              "(127, 6)"
            ]
          },
          "metadata": {},
          "execution_count": 10
        }
      ]
    },
    {
      "cell_type": "code",
      "metadata": {
        "colab": {
          "base_uri": "https://localhost:8080/"
        },
        "id": "NmyLZssWsiJp",
        "outputId": "ac129064-7b5b-4265-bafa-718359596c28"
      },
      "source": [
        "data.info"
      ],
      "execution_count": null,
      "outputs": [
        {
          "output_type": "execute_result",
          "data": {
            "text/plain": [
              "<bound method DataFrame.info of            Date Close/Last    Volume       Open       High      Low\n",
              "0    09/27/2021    $791.36  28070660    $773.12       $799  $769.31\n",
              "1    09/24/2021    $774.39  21373020    $745.89     $774.8  $744.56\n",
              "2    09/23/2021    $753.64  11947530       $755     $758.2  $747.92\n",
              "3    09/22/2021    $751.94  15126270  $743.5263  $753.6699  $739.12\n",
              "4    09/21/2021    $739.38  16330720    $734.79  $744.7399  $730.44\n",
              "..          ...        ...       ...        ...        ...      ...\n",
              "122  04/05/2021    $691.05  41842770    $707.71    $708.16   $684.7\n",
              "123  04/01/2021    $661.75  35298380    $688.37  $692.4203  $659.42\n",
              "124  03/31/2021    $667.93  33337290    $646.62       $672  $641.11\n",
              "125  03/30/2021    $635.62  39432360    $601.75    $637.66  $591.01\n",
              "126  03/29/2021    $611.29  28636990    $615.64    $616.48  $596.02\n",
              "\n",
              "[127 rows x 6 columns]>"
            ]
          },
          "metadata": {},
          "execution_count": 13
        }
      ]
    },
    {
      "cell_type": "code",
      "metadata": {
        "colab": {
          "base_uri": "https://localhost:8080/",
          "height": 297
        },
        "id": "maV6kAAKsiMp",
        "outputId": "10ebb2f1-5e2b-4e41-a141-27ee3efca819"
      },
      "source": [
        "data.describe() "
      ],
      "execution_count": null,
      "outputs": [
        {
          "output_type": "execute_result",
          "data": {
            "text/html": [
              "<div>\n",
              "<style scoped>\n",
              "    .dataframe tbody tr th:only-of-type {\n",
              "        vertical-align: middle;\n",
              "    }\n",
              "\n",
              "    .dataframe tbody tr th {\n",
              "        vertical-align: top;\n",
              "    }\n",
              "\n",
              "    .dataframe thead th {\n",
              "        text-align: right;\n",
              "    }\n",
              "</style>\n",
              "<table border=\"1\" class=\"dataframe\">\n",
              "  <thead>\n",
              "    <tr style=\"text-align: right;\">\n",
              "      <th></th>\n",
              "      <th>Volume</th>\n",
              "    </tr>\n",
              "  </thead>\n",
              "  <tbody>\n",
              "    <tr>\n",
              "      <th>count</th>\n",
              "      <td>1.270000e+02</td>\n",
              "    </tr>\n",
              "    <tr>\n",
              "      <th>mean</th>\n",
              "      <td>2.426258e+07</td>\n",
              "    </tr>\n",
              "    <tr>\n",
              "      <th>std</th>\n",
              "      <td>8.508396e+06</td>\n",
              "    </tr>\n",
              "    <tr>\n",
              "      <th>min</th>\n",
              "      <td>9.800558e+06</td>\n",
              "    </tr>\n",
              "    <tr>\n",
              "      <th>25%</th>\n",
              "      <td>1.753150e+07</td>\n",
              "    </tr>\n",
              "    <tr>\n",
              "      <th>50%</th>\n",
              "      <td>2.295248e+07</td>\n",
              "    </tr>\n",
              "    <tr>\n",
              "      <th>75%</th>\n",
              "      <td>2.928634e+07</td>\n",
              "    </tr>\n",
              "    <tr>\n",
              "      <th>max</th>\n",
              "      <td>4.901743e+07</td>\n",
              "    </tr>\n",
              "  </tbody>\n",
              "</table>\n",
              "</div>"
            ],
            "text/plain": [
              "             Volume\n",
              "count  1.270000e+02\n",
              "mean   2.426258e+07\n",
              "std    8.508396e+06\n",
              "min    9.800558e+06\n",
              "25%    1.753150e+07\n",
              "50%    2.295248e+07\n",
              "75%    2.928634e+07\n",
              "max    4.901743e+07"
            ]
          },
          "metadata": {},
          "execution_count": 14
        }
      ]
    },
    {
      "cell_type": "code",
      "metadata": {
        "colab": {
          "base_uri": "https://localhost:8080/"
        },
        "id": "oIQkg5sRyb-8",
        "outputId": "b9eae675-6c92-4ea3-e43e-4429a761c5ac"
      },
      "source": [
        "data.Volume.unique"
      ],
      "execution_count": null,
      "outputs": [
        {
          "output_type": "execute_result",
          "data": {
            "text/plain": [
              "<bound method Series.unique of 0      28070660\n",
              "1      21373020\n",
              "2      11947530\n",
              "3      15126270\n",
              "4      16330720\n",
              "         ...   \n",
              "122    41842770\n",
              "123    35298380\n",
              "124    33337290\n",
              "125    39432360\n",
              "126    28636990\n",
              "Name: Volume, Length: 127, dtype: int64>"
            ]
          },
          "metadata": {},
          "execution_count": 15
        }
      ]
    },
    {
      "cell_type": "code",
      "metadata": {
        "colab": {
          "base_uri": "https://localhost:8080/",
          "height": 282
        },
        "id": "8kBgYINXycBy",
        "outputId": "3e77375f-3ece-4c07-de94-026b1a7e4d3d"
      },
      "source": [
        "sns.heatmap(data.isnull(),cbar=False,yticklabels=False,cmap = 'viridis')"
      ],
      "execution_count": null,
      "outputs": [
        {
          "output_type": "execute_result",
          "data": {
            "text/plain": [
              "<matplotlib.axes._subplots.AxesSubplot at 0x7f19ff848250>"
            ]
          },
          "metadata": {},
          "execution_count": 18
        },
        {
          "output_type": "display_data",
          "data": {
            "image/png": "[encoded data removed]",
            "text/plain": [
              "<Figure size 432x288 with 1 Axes>"
            ]
          },
          "metadata": {
            "needs_background": "light"
          }
        }
      ]
    },
    {
      "cell_type": "code",
      "metadata": {
        "colab": {
          "base_uri": "https://localhost:8080/",
          "height": 395
        },
        "id": "NjkaaZyszK-q",
        "outputId": "8f94b23a-904d-4b1a-b334-de2b2d2e91ef"
      },
      "source": [
        "k = 12 #number of variables for heatmap\n",
        "cols = data.corr().nlargest(k, 'Volume')['Volume'].index\n",
        "cm = data[cols].corr()\n",
        "plt.figure(figsize=(10,6))\n",
        "sns.heatmap(cm, annot=True, cmap = 'viridis')"
      ],
      "execution_count": null,
      "outputs": [
        {
          "output_type": "execute_result",
          "data": {
            "text/plain": [
              "<matplotlib.axes._subplots.AxesSubplot at 0x7f19f6e98990>"
            ]
          },
          "metadata": {},
          "execution_count": 27
        },
        {
          "output_type": "display_data",
          "data": {
            "image/png": "[encoded data removed]",
            "text/plain": [
              "<Figure size 720x432 with 2 Axes>"
            ]
          },
          "metadata": {
            "needs_background": "light"
          }
        }
      ]
    },
    {
      "cell_type": "code",
      "metadata": {
        "id": "1Yd29jcizLBg"
      },
      "source": [
        ""
      ],
      "execution_count": null,
      "outputs": []
    }
  ]
}